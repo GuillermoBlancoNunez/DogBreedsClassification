{
  "nbformat": 4,
  "nbformat_minor": 0,
  "metadata": {
    "colab": {
      "provenance": []
    },
    "kernelspec": {
      "name": "python3",
      "display_name": "Python 3"
    },
    "language_info": {
      "name": "python"
    }
  },
  "cells": [
    {
      "cell_type": "markdown",
      "source": [
        "#Dog breed identification\n",
        "##Guillermo Blanco Núñez\n",
        "####UDC International Summer School - Data Mining and Neural Networks Course\n",
        "July 24th, 2025"
      ],
      "metadata": {
        "id": "6JqrQYk_teBS"
      }
    },
    {
      "cell_type": "markdown",
      "source": [
        "Load dataset from github repository, downloaded from public kaggle competition before.  "
      ],
      "metadata": {
        "id": "DBbMin6Vttl6"
      }
    },
    {
      "cell_type": "code",
      "source": [
        "!git clone --depth 1 https://github.com/GuillermoBlancoNunez/DogBreedsDataRepo.git\n",
        "%cd DogBreedsDataRepo\n"
      ],
      "metadata": {
        "colab": {
          "base_uri": "https://localhost:8080/"
        },
        "id": "AVwF_fM3kJ0P",
        "outputId": "e22add81-2542-418e-f2fb-61a2879ac991"
      },
      "execution_count": 5,
      "outputs": [
        {
          "output_type": "stream",
          "name": "stdout",
          "text": [
            "fatal: destination path 'DogBreedsDataRepo' already exists and is not an empty directory.\n",
            "/content/DogBreedsDataRepo\n"
          ]
        }
      ]
    },
    {
      "cell_type": "markdown",
      "source": [
        "Import all necessary libraries and set variables for path, showing the amount of images loaded in the training dataset."
      ],
      "metadata": {
        "id": "Rl8EhOWN2E7t"
      }
    },
    {
      "cell_type": "code",
      "execution_count": 1,
      "metadata": {
        "id": "KRd-O-7dWiC1",
        "colab": {
          "base_uri": "https://localhost:8080/"
        },
        "outputId": "1cf2b086-c69a-47ff-96a6-7e39a4f102d5"
      },
      "outputs": [
        {
          "output_type": "stream",
          "name": "stdout",
          "text": [
            "Total de imágenes encontradas: 10222\n"
          ]
        }
      ],
      "source": [
        "import pandas as pd\n",
        "import numpy as np\n",
        "import glob, re\n",
        "from pathlib import Path\n",
        "from sklearn.model_selection import train_test_split\n",
        "from PIL import Image\n",
        "from tensorflow.keras.utils import to_categorical\n",
        "\n",
        "DATA_DIR = Path(\"/content/DogBreedsDataRepo\")  # Adjust path\n",
        "IMG_DIR = DATA_DIR / \"train\"                  #For training set\n",
        "image_paths = sorted(glob.glob(str(IMG_DIR / \"*.jpg\")))\n",
        "print(\"Total de imágenes encontradas:\", len(image_paths))\n"
      ]
    },
    {
      "cell_type": "markdown",
      "source": [
        "Read labels.csv to create an index from image labels to the dog breed they reference."
      ],
      "metadata": {
        "id": "LjszYiZc2VqD"
      }
    },
    {
      "cell_type": "code",
      "source": [
        "labels_df = pd.read_csv(\"/content/DogBreedsDataRepo/labels.csv\")\n",
        "\n",
        "id_col    = [c for c in labels_df.columns if c.lower() in (\"id\",\"image_id\",\"label\",\"image\")][0]\n",
        "breed_col = [c for c in labels_df.columns if \"breed\" in c.lower()][0]\n",
        "\n",
        "print(\"id_col =\", id_col, \"| breed_col =\", breed_col)\n",
        "\n",
        "id2breed = dict(zip(labels_df[id_col].astype(str),\n",
        "                    labels_df[breed_col].astype(str)))"
      ],
      "metadata": {
        "colab": {
          "base_uri": "https://localhost:8080/"
        },
        "id": "rvxKHXGQoHtE",
        "outputId": "d68ab8f2-07ad-462b-c0db-4a15deb0b35f"
      },
      "execution_count": 6,
      "outputs": [
        {
          "output_type": "stream",
          "name": "stdout",
          "text": [
            "id_col = id | breed_col = breed\n"
          ]
        }
      ]
    },
    {
      "cell_type": "markdown",
      "source": [
        "Connects indexes between labels.csv and image labels"
      ],
      "metadata": {
        "id": "kyQd7nQC2e8A"
      }
    },
    {
      "cell_type": "code",
      "source": [
        "\n",
        "def extract_label(path: str):\n",
        "    \"\"\"\n",
        "    Returns the breed associated with the image path according to labels.csv.\n",
        "    Requires a global dictionary id2breed: {image_id: breed}.\n",
        "    If image_id isn´t found in the dictionary, returns 'UNKNOWN'.\n",
        "    \"\"\"\n",
        "    image_id = Path(path).stem  # name without .jpg extension\n",
        "    return id2breed.get(image_id, \"UNKNOWN\")\n",
        "\n",
        "\n",
        "\n",
        "\n",
        "# Generates a list of breeds, not IDs\n",
        "breeds = [extract_label(p) for p in image_paths]"
      ],
      "metadata": {
        "id": "nc14G2pQp8kf"
      },
      "execution_count": 7,
      "outputs": []
    },
    {
      "cell_type": "markdown",
      "source": [
        "Creates a pandas dataframe with the image path, the filename and the breed name as the label."
      ],
      "metadata": {
        "id": "a_lHARCK3mAC"
      }
    },
    {
      "cell_type": "code",
      "source": [
        "df = pd.DataFrame({\n",
        "    \"path\": image_paths,\n",
        "    \"filename\": [Path(p).name for p in image_paths],\n",
        "    \"breed\": breeds\n",
        "})\n",
        "\n",
        "df.head()\n"
      ],
      "metadata": {
        "colab": {
          "base_uri": "https://localhost:8080/",
          "height": 206
        },
        "id": "KsnJjWpzoMkM",
        "outputId": "d09a3eaf-5031-42a7-96b8-4be96a47f736"
      },
      "execution_count": 8,
      "outputs": [
        {
          "output_type": "execute_result",
          "data": {
            "text/plain": [
              "                                                path  \\\n",
              "0  /content/DogBreedsDataRepo/train/000bec180eb18...   \n",
              "1  /content/DogBreedsDataRepo/train/001513dfcb2ff...   \n",
              "2  /content/DogBreedsDataRepo/train/001cdf01b096e...   \n",
              "3  /content/DogBreedsDataRepo/train/00214f311d5d2...   \n",
              "4  /content/DogBreedsDataRepo/train/0021f9ceb3235...   \n",
              "\n",
              "                               filename             breed  \n",
              "0  000bec180eb18c7604dcecc8fe0dba07.jpg       boston_bull  \n",
              "1  001513dfcb2ffafc82cccf4d8bbaba97.jpg             dingo  \n",
              "2  001cdf01b096e06d78e9e5112d419397.jpg          pekinese  \n",
              "3  00214f311d5d2247d5dfe4fe24b2303d.jpg          bluetick  \n",
              "4  0021f9ceb3235effd7fcde7f7538ed62.jpg  golden_retriever  "
            ],
            "text/html": [
              "\n",
              "  <div id=\"df-9e060a34-eda4-486e-8554-36c6ca268324\" class=\"colab-df-container\">\n",
              "    <div>\n",
              "<style scoped>\n",
              "    .dataframe tbody tr th:only-of-type {\n",
              "        vertical-align: middle;\n",
              "    }\n",
              "\n",
              "    .dataframe tbody tr th {\n",
              "        vertical-align: top;\n",
              "    }\n",
              "\n",
              "    .dataframe thead th {\n",
              "        text-align: right;\n",
              "    }\n",
              "</style>\n",
              "<table border=\"1\" class=\"dataframe\">\n",
              "  <thead>\n",
              "    <tr style=\"text-align: right;\">\n",
              "      <th></th>\n",
              "      <th>path</th>\n",
              "      <th>filename</th>\n",
              "      <th>breed</th>\n",
              "    </tr>\n",
              "  </thead>\n",
              "  <tbody>\n",
              "    <tr>\n",
              "      <th>0</th>\n",
              "      <td>/content/DogBreedsDataRepo/train/000bec180eb18...</td>\n",
              "      <td>000bec180eb18c7604dcecc8fe0dba07.jpg</td>\n",
              "      <td>boston_bull</td>\n",
              "    </tr>\n",
              "    <tr>\n",
              "      <th>1</th>\n",
              "      <td>/content/DogBreedsDataRepo/train/001513dfcb2ff...</td>\n",
              "      <td>001513dfcb2ffafc82cccf4d8bbaba97.jpg</td>\n",
              "      <td>dingo</td>\n",
              "    </tr>\n",
              "    <tr>\n",
              "      <th>2</th>\n",
              "      <td>/content/DogBreedsDataRepo/train/001cdf01b096e...</td>\n",
              "      <td>001cdf01b096e06d78e9e5112d419397.jpg</td>\n",
              "      <td>pekinese</td>\n",
              "    </tr>\n",
              "    <tr>\n",
              "      <th>3</th>\n",
              "      <td>/content/DogBreedsDataRepo/train/00214f311d5d2...</td>\n",
              "      <td>00214f311d5d2247d5dfe4fe24b2303d.jpg</td>\n",
              "      <td>bluetick</td>\n",
              "    </tr>\n",
              "    <tr>\n",
              "      <th>4</th>\n",
              "      <td>/content/DogBreedsDataRepo/train/0021f9ceb3235...</td>\n",
              "      <td>0021f9ceb3235effd7fcde7f7538ed62.jpg</td>\n",
              "      <td>golden_retriever</td>\n",
              "    </tr>\n",
              "  </tbody>\n",
              "</table>\n",
              "</div>\n",
              "    <div class=\"colab-df-buttons\">\n",
              "\n",
              "  <div class=\"colab-df-container\">\n",
              "    <button class=\"colab-df-convert\" onclick=\"convertToInteractive('df-9e060a34-eda4-486e-8554-36c6ca268324')\"\n",
              "            title=\"Convert this dataframe to an interactive table.\"\n",
              "            style=\"display:none;\">\n",
              "\n",
              "  <svg xmlns=\"http://www.w3.org/2000/svg\" height=\"24px\" viewBox=\"0 -960 960 960\">\n",
              "    <path d=\"M120-120v-720h720v720H120Zm60-500h600v-160H180v160Zm220 220h160v-160H400v160Zm0 220h160v-160H400v160ZM180-400h160v-160H180v160Zm440 0h160v-160H620v160ZM180-180h160v-160H180v160Zm440 0h160v-160H620v160Z\"/>\n",
              "  </svg>\n",
              "    </button>\n",
              "\n",
              "  <style>\n",
              "    .colab-df-container {\n",
              "      display:flex;\n",
              "      gap: 12px;\n",
              "    }\n",
              "\n",
              "    .colab-df-convert {\n",
              "      background-color: #E8F0FE;\n",
              "      border: none;\n",
              "      border-radius: 50%;\n",
              "      cursor: pointer;\n",
              "      display: none;\n",
              "      fill: #1967D2;\n",
              "      height: 32px;\n",
              "      padding: 0 0 0 0;\n",
              "      width: 32px;\n",
              "    }\n",
              "\n",
              "    .colab-df-convert:hover {\n",
              "      background-color: #E2EBFA;\n",
              "      box-shadow: 0px 1px 2px rgba(60, 64, 67, 0.3), 0px 1px 3px 1px rgba(60, 64, 67, 0.15);\n",
              "      fill: #174EA6;\n",
              "    }\n",
              "\n",
              "    .colab-df-buttons div {\n",
              "      margin-bottom: 4px;\n",
              "    }\n",
              "\n",
              "    [theme=dark] .colab-df-convert {\n",
              "      background-color: #3B4455;\n",
              "      fill: #D2E3FC;\n",
              "    }\n",
              "\n",
              "    [theme=dark] .colab-df-convert:hover {\n",
              "      background-color: #434B5C;\n",
              "      box-shadow: 0px 1px 3px 1px rgba(0, 0, 0, 0.15);\n",
              "      filter: drop-shadow(0px 1px 2px rgba(0, 0, 0, 0.3));\n",
              "      fill: #FFFFFF;\n",
              "    }\n",
              "  </style>\n",
              "\n",
              "    <script>\n",
              "      const buttonEl =\n",
              "        document.querySelector('#df-9e060a34-eda4-486e-8554-36c6ca268324 button.colab-df-convert');\n",
              "      buttonEl.style.display =\n",
              "        google.colab.kernel.accessAllowed ? 'block' : 'none';\n",
              "\n",
              "      async function convertToInteractive(key) {\n",
              "        const element = document.querySelector('#df-9e060a34-eda4-486e-8554-36c6ca268324');\n",
              "        const dataTable =\n",
              "          await google.colab.kernel.invokeFunction('convertToInteractive',\n",
              "                                                    [key], {});\n",
              "        if (!dataTable) return;\n",
              "\n",
              "        const docLinkHtml = 'Like what you see? Visit the ' +\n",
              "          '<a target=\"_blank\" href=https://colab.research.google.com/notebooks/data_table.ipynb>data table notebook</a>'\n",
              "          + ' to learn more about interactive tables.';\n",
              "        element.innerHTML = '';\n",
              "        dataTable['output_type'] = 'display_data';\n",
              "        await google.colab.output.renderOutput(dataTable, element);\n",
              "        const docLink = document.createElement('div');\n",
              "        docLink.innerHTML = docLinkHtml;\n",
              "        element.appendChild(docLink);\n",
              "      }\n",
              "    </script>\n",
              "  </div>\n",
              "\n",
              "\n",
              "    <div id=\"df-a62847a8-85a5-4355-b814-59423a4ee3ae\">\n",
              "      <button class=\"colab-df-quickchart\" onclick=\"quickchart('df-a62847a8-85a5-4355-b814-59423a4ee3ae')\"\n",
              "                title=\"Suggest charts\"\n",
              "                style=\"display:none;\">\n",
              "\n",
              "<svg xmlns=\"http://www.w3.org/2000/svg\" height=\"24px\"viewBox=\"0 0 24 24\"\n",
              "     width=\"24px\">\n",
              "    <g>\n",
              "        <path d=\"M19 3H5c-1.1 0-2 .9-2 2v14c0 1.1.9 2 2 2h14c1.1 0 2-.9 2-2V5c0-1.1-.9-2-2-2zM9 17H7v-7h2v7zm4 0h-2V7h2v10zm4 0h-2v-4h2v4z\"/>\n",
              "    </g>\n",
              "</svg>\n",
              "      </button>\n",
              "\n",
              "<style>\n",
              "  .colab-df-quickchart {\n",
              "      --bg-color: #E8F0FE;\n",
              "      --fill-color: #1967D2;\n",
              "      --hover-bg-color: #E2EBFA;\n",
              "      --hover-fill-color: #174EA6;\n",
              "      --disabled-fill-color: #AAA;\n",
              "      --disabled-bg-color: #DDD;\n",
              "  }\n",
              "\n",
              "  [theme=dark] .colab-df-quickchart {\n",
              "      --bg-color: #3B4455;\n",
              "      --fill-color: #D2E3FC;\n",
              "      --hover-bg-color: #434B5C;\n",
              "      --hover-fill-color: #FFFFFF;\n",
              "      --disabled-bg-color: #3B4455;\n",
              "      --disabled-fill-color: #666;\n",
              "  }\n",
              "\n",
              "  .colab-df-quickchart {\n",
              "    background-color: var(--bg-color);\n",
              "    border: none;\n",
              "    border-radius: 50%;\n",
              "    cursor: pointer;\n",
              "    display: none;\n",
              "    fill: var(--fill-color);\n",
              "    height: 32px;\n",
              "    padding: 0;\n",
              "    width: 32px;\n",
              "  }\n",
              "\n",
              "  .colab-df-quickchart:hover {\n",
              "    background-color: var(--hover-bg-color);\n",
              "    box-shadow: 0 1px 2px rgba(60, 64, 67, 0.3), 0 1px 3px 1px rgba(60, 64, 67, 0.15);\n",
              "    fill: var(--button-hover-fill-color);\n",
              "  }\n",
              "\n",
              "  .colab-df-quickchart-complete:disabled,\n",
              "  .colab-df-quickchart-complete:disabled:hover {\n",
              "    background-color: var(--disabled-bg-color);\n",
              "    fill: var(--disabled-fill-color);\n",
              "    box-shadow: none;\n",
              "  }\n",
              "\n",
              "  .colab-df-spinner {\n",
              "    border: 2px solid var(--fill-color);\n",
              "    border-color: transparent;\n",
              "    border-bottom-color: var(--fill-color);\n",
              "    animation:\n",
              "      spin 1s steps(1) infinite;\n",
              "  }\n",
              "\n",
              "  @keyframes spin {\n",
              "    0% {\n",
              "      border-color: transparent;\n",
              "      border-bottom-color: var(--fill-color);\n",
              "      border-left-color: var(--fill-color);\n",
              "    }\n",
              "    20% {\n",
              "      border-color: transparent;\n",
              "      border-left-color: var(--fill-color);\n",
              "      border-top-color: var(--fill-color);\n",
              "    }\n",
              "    30% {\n",
              "      border-color: transparent;\n",
              "      border-left-color: var(--fill-color);\n",
              "      border-top-color: var(--fill-color);\n",
              "      border-right-color: var(--fill-color);\n",
              "    }\n",
              "    40% {\n",
              "      border-color: transparent;\n",
              "      border-right-color: var(--fill-color);\n",
              "      border-top-color: var(--fill-color);\n",
              "    }\n",
              "    60% {\n",
              "      border-color: transparent;\n",
              "      border-right-color: var(--fill-color);\n",
              "    }\n",
              "    80% {\n",
              "      border-color: transparent;\n",
              "      border-right-color: var(--fill-color);\n",
              "      border-bottom-color: var(--fill-color);\n",
              "    }\n",
              "    90% {\n",
              "      border-color: transparent;\n",
              "      border-bottom-color: var(--fill-color);\n",
              "    }\n",
              "  }\n",
              "</style>\n",
              "\n",
              "      <script>\n",
              "        async function quickchart(key) {\n",
              "          const quickchartButtonEl =\n",
              "            document.querySelector('#' + key + ' button');\n",
              "          quickchartButtonEl.disabled = true;  // To prevent multiple clicks.\n",
              "          quickchartButtonEl.classList.add('colab-df-spinner');\n",
              "          try {\n",
              "            const charts = await google.colab.kernel.invokeFunction(\n",
              "                'suggestCharts', [key], {});\n",
              "          } catch (error) {\n",
              "            console.error('Error during call to suggestCharts:', error);\n",
              "          }\n",
              "          quickchartButtonEl.classList.remove('colab-df-spinner');\n",
              "          quickchartButtonEl.classList.add('colab-df-quickchart-complete');\n",
              "        }\n",
              "        (() => {\n",
              "          let quickchartButtonEl =\n",
              "            document.querySelector('#df-a62847a8-85a5-4355-b814-59423a4ee3ae button');\n",
              "          quickchartButtonEl.style.display =\n",
              "            google.colab.kernel.accessAllowed ? 'block' : 'none';\n",
              "        })();\n",
              "      </script>\n",
              "    </div>\n",
              "\n",
              "    </div>\n",
              "  </div>\n"
            ],
            "application/vnd.google.colaboratory.intrinsic+json": {
              "type": "dataframe",
              "variable_name": "df",
              "summary": "{\n  \"name\": \"df\",\n  \"rows\": 10222,\n  \"fields\": [\n    {\n      \"column\": \"path\",\n      \"properties\": {\n        \"dtype\": \"string\",\n        \"num_unique_values\": 10222,\n        \"samples\": [\n          \"/content/DogBreedsDataRepo/train/475171ec5847e4df41847e295b8cfca2.jpg\",\n          \"/content/DogBreedsDataRepo/train/70c412a3ce894c617cbe707f24adbb82.jpg\",\n          \"/content/DogBreedsDataRepo/train/c13427fc3db9194dac02b1721bd10fe4.jpg\"\n        ],\n        \"semantic_type\": \"\",\n        \"description\": \"\"\n      }\n    },\n    {\n      \"column\": \"filename\",\n      \"properties\": {\n        \"dtype\": \"string\",\n        \"num_unique_values\": 10222,\n        \"samples\": [\n          \"475171ec5847e4df41847e295b8cfca2.jpg\",\n          \"70c412a3ce894c617cbe707f24adbb82.jpg\",\n          \"c13427fc3db9194dac02b1721bd10fe4.jpg\"\n        ],\n        \"semantic_type\": \"\",\n        \"description\": \"\"\n      }\n    },\n    {\n      \"column\": \"breed\",\n      \"properties\": {\n        \"dtype\": \"category\",\n        \"num_unique_values\": 120,\n        \"samples\": [\n          \"rhodesian_ridgeback\",\n          \"bloodhound\",\n          \"golden_retriever\"\n        ],\n        \"semantic_type\": \"\",\n        \"description\": \"\"\n      }\n    }\n  ]\n}"
            }
          },
          "metadata": {},
          "execution_count": 8
        }
      ]
    },
    {
      "cell_type": "markdown",
      "source": [
        "Check nº of breeds detected in data, and the breed with the least and most apperances."
      ],
      "metadata": {
        "id": "o4C6_VCsR63E"
      }
    },
    {
      "cell_type": "code",
      "source": [
        "classes = df['breed'].unique()\n",
        "NUM_CLASSES = len(classes)\n",
        "print(\"Nº of detected breeds:\", NUM_CLASSES)\n",
        "counts = df['breed'].value_counts()\n",
        "print(f\"Breed with the most images: {counts.idxmax()} with {counts.max()}\")\n",
        "print(f\"Breed with the least images: {counts.idxmin()} with {counts.min()}\")"
      ],
      "metadata": {
        "colab": {
          "base_uri": "https://localhost:8080/"
        },
        "id": "Ca5IoJP5CuyJ",
        "outputId": "06c0a5f4-8254-4cc3-9fd4-02db24665976"
      },
      "execution_count": 9,
      "outputs": [
        {
          "output_type": "stream",
          "name": "stdout",
          "text": [
            "Nº of detected breeds: 120\n",
            "Breed with the most images: scottish_deerhound with 126\n",
            "Breed with the least images: eskimo_dog with 66\n"
          ]
        }
      ]
    },
    {
      "cell_type": "markdown",
      "source": [
        "Separate into training, validation and testing set. With 70/15/15 split."
      ],
      "metadata": {
        "id": "zFb4VzOQTxDT"
      }
    },
    {
      "cell_type": "code",
      "source": [
        "\n",
        "SEED = 42\n",
        "\n",
        "# Separate testing set (15%)\n",
        "train_val_df, test_df = train_test_split(df, test_size=0.15, stratify=df[\"breed\"], random_state=SEED)\n",
        "\n",
        "# Separate a global 15% for validate set from the 85% remaining\n",
        "\n",
        "val_rel = 0.15 / 0.85\n",
        "\n",
        "train_df, val_df = train_test_split(train_val_df, test_size=val_rel, stratify=train_val_df['breed'], random_state=SEED)\n",
        "\n",
        "print(f\"Tamaños -> Train: {len(train_df)} | Val: {len(val_df)} | Test: {len(test_df)}\")"
      ],
      "metadata": {
        "colab": {
          "base_uri": "https://localhost:8080/"
        },
        "id": "XgBQlmnFQrlx",
        "outputId": "d5d5fe6a-220d-4269-bfd5-1adf8d63e4be"
      },
      "execution_count": 10,
      "outputs": [
        {
          "output_type": "stream",
          "name": "stdout",
          "text": [
            "Tamaños -> Train: 7154 | Val: 1534 | Test: 1534\n"
          ]
        }
      ]
    },
    {
      "cell_type": "markdown",
      "source": [
        "Statistics for training, validation and testing sets."
      ],
      "metadata": {
        "id": "5aBoPuAtT4kh"
      }
    },
    {
      "cell_type": "code",
      "source": [
        "subsets = {\"Training set\": train_df, \"Validation set\": val_df, \"Test set\": test_df}\n",
        "for name, i in subsets.items():\n",
        "  print(f\"\\n\\n\\nStatisctics for {name}\")\n",
        "  num_classes = i['breed'].nunique()\n",
        "  print(f\"Nº of entries: {len(i)}\")\n",
        "  print(\"Nº of detected breeds:\", num_classes)\n",
        "  counts = i['breed'].value_counts()\n",
        "\n",
        "  print(f\"Breed with the most images: {counts.idxmax()} with {counts.max()}\")\n",
        "  print(f\"Breed with the least images: {counts.idxmin()} with {counts.min()}\")\n",
        "  print(f\"Ratio: {counts.max() / counts.min()}\")"
      ],
      "metadata": {
        "colab": {
          "base_uri": "https://localhost:8080/"
        },
        "id": "jwhaPMEET8NY",
        "outputId": "baa7b863-f392-4f3c-aa12-3ba6b08647e1"
      },
      "execution_count": 11,
      "outputs": [
        {
          "output_type": "stream",
          "name": "stdout",
          "text": [
            "\n",
            "\n",
            "\n",
            "Statisctics for Training set\n",
            "Nº of entries: 7154\n",
            "Nº of detected breeds: 120\n",
            "Breed with the most images: scottish_deerhound with 88\n",
            "Breed with the least images: eskimo_dog with 46\n",
            "Ratio: 1.9130434782608696\n",
            "\n",
            "\n",
            "\n",
            "Statisctics for Validation set\n",
            "Nº of entries: 1534\n",
            "Nº of detected breeds: 120\n",
            "Breed with the most images: scottish_deerhound with 19\n",
            "Breed with the least images: german_shepherd with 10\n",
            "Ratio: 1.9\n",
            "\n",
            "\n",
            "\n",
            "Statisctics for Test set\n",
            "Nº of entries: 1534\n",
            "Nº of detected breeds: 120\n",
            "Breed with the most images: scottish_deerhound with 19\n",
            "Breed with the least images: otterhound with 10\n",
            "Ratio: 1.9\n"
          ]
        }
      ]
    },
    {
      "cell_type": "markdown",
      "source": [
        "Load and normalize images."
      ],
      "metadata": {
        "id": "RU5a7I0q69Vb"
      }
    },
    {
      "cell_type": "code",
      "source": [
        "IMG_SIZE   = (224, 224)   # width, height\n",
        "\n",
        "\n",
        "def load_images(paths, img_size=IMG_SIZE):\n",
        "    imgs = []\n",
        "    for p in paths:\n",
        "        img = Image.open(p).convert(\"RGB\").resize(img_size, Image.BILINEAR)\n",
        "        arr = np.asarray(img, dtype=np.float32) / 255.0\n",
        "        imgs.append(arr)\n",
        "    return np.stack(imgs)  # shape: (N, 224,224,3)"
      ],
      "metadata": {
        "id": "g-wxHAOkUAqb"
      },
      "execution_count": 12,
      "outputs": []
    },
    {
      "cell_type": "markdown",
      "source": [
        "Load and divide train, validate and test sets into input and output values."
      ],
      "metadata": {
        "id": "zMlmsXnH7QaM"
      }
    },
    {
      "cell_type": "code",
      "source": [
        "#Load images from X_train, X_val, X_test\n",
        "x_train = load_images(train_df['path'].tolist())\n",
        "x_val   = load_images(val_df['path'].tolist())\n",
        "x_test  = load_images(test_df['path'].tolist())\n",
        "\n",
        "# Convert label(str) into indexes\n",
        "label2idx = {breed:idx for idx, breed in enumerate(classes)}\n",
        "y_train_idx = train_df['breed'].map(label2idx).values\n",
        "y_val_idx   = val_df['breed'].map(label2idx).values\n",
        "y_test_idx  = test_df['breed'].map(label2idx).values\n"
      ],
      "metadata": {
        "id": "gR3kCd867QDD"
      },
      "execution_count": 13,
      "outputs": []
    },
    {
      "cell_type": "markdown",
      "source": [
        "Transform output values dataset to categorical classes using one-hot encoding"
      ],
      "metadata": {
        "id": "ZqPOhCdVHo20"
      }
    },
    {
      "cell_type": "code",
      "source": [
        "# One‑hot encode output variables\n",
        "y_train = to_categorical(y_train_idx, num_classes=NUM_CLASSES)\n",
        "y_val   = to_categorical(y_val_idx,   num_classes=NUM_CLASSES)\n",
        "y_test  = to_categorical(y_test_idx,  num_classes=NUM_CLASSES)\n",
        "\n",
        "# Check shapes\n",
        "print(\"x_train:\", x_train.shape, \"y_train:\", y_train.shape)\n",
        "print(\"x_val:  \", x_val.shape,   \"y_val:  \", y_val.shape)\n",
        "print(\"x_test: \", x_test.shape,  \"y_test: \", y_test.shape)\n",
        "\n"
      ],
      "metadata": {
        "colab": {
          "base_uri": "https://localhost:8080/"
        },
        "id": "-WbkGCN37ziO",
        "outputId": "8dcc5019-3c09-4e97-98dd-9f2f452078d1"
      },
      "execution_count": 14,
      "outputs": [
        {
          "output_type": "stream",
          "name": "stdout",
          "text": [
            "x_train: (7154, 224, 224, 3) y_train: (7154, 120)\n",
            "x_val:   (1534, 224, 224, 3) y_val:   (1534, 120)\n",
            "x_test:  (1534, 224, 224, 3) y_test:  (1534, 120)\n"
          ]
        }
      ]
    }
  ]
}