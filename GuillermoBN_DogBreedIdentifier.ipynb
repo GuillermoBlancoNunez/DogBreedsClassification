{
  "nbformat": 4,
  "nbformat_minor": 0,
  "metadata": {
    "colab": {
      "provenance": []
    },
    "kernelspec": {
      "name": "python3",
      "display_name": "Python 3"
    },
    "language_info": {
      "name": "python"
    }
  },
  "cells": [
    {
      "cell_type": "markdown",
      "source": [
        "#Dog breed identification\n",
        "##Guillermo Blanco Núñez\n",
        "####UDC International Summer School - Data Mining and Neural Networks Course\n",
        "July 24th, 2025"
      ],
      "metadata": {
        "id": "6JqrQYk_teBS"
      }
    },
    {
      "cell_type": "markdown",
      "source": [
        "Load dataset from github repository, downloaded from public kaggle competition before.  "
      ],
      "metadata": {
        "id": "DBbMin6Vttl6"
      }
    },
    {
      "cell_type": "code",
      "source": [
        "!git clone --depth 1 https://github.com/GuillermoBlancoNunez/DogBreedsDataRepo.git\n",
        "%cd DogBreedsDataRepo\n"
      ],
      "metadata": {
        "colab": {
          "base_uri": "https://localhost:8080/"
        },
        "id": "AVwF_fM3kJ0P",
        "outputId": "38f26419-dec2-4a52-c490-1c5c2f8fd665"
      },
      "execution_count": 2,
      "outputs": [
        {
          "output_type": "stream",
          "name": "stdout",
          "text": [
            "Cloning into 'DogBreedsDataRepo'...\n",
            "remote: Enumerating objects: 20496, done.\u001b[K\n",
            "remote: Counting objects: 100% (20496/20496), done.\u001b[K\n",
            "remote: Compressing objects: 100% (20496/20496), done.\u001b[K\n",
            "remote: Total 20496 (delta 0), reused 20496 (delta 0), pack-reused 0 (from 0)\u001b[K\n",
            "Receiving objects: 100% (20496/20496), 684.99 MiB | 35.80 MiB/s, done.\n",
            "Updating files: 100% (20581/20581), done.\n",
            "/content/DogBreedsDataRepo\n"
          ]
        }
      ]
    },
    {
      "cell_type": "markdown",
      "source": [
        "Import all necessary libraries and set variables for path, showing the amount of images loaded in the training dataset."
      ],
      "metadata": {
        "id": "Rl8EhOWN2E7t"
      }
    },
    {
      "cell_type": "code",
      "execution_count": 27,
      "metadata": {
        "id": "KRd-O-7dWiC1",
        "colab": {
          "base_uri": "https://localhost:8080/"
        },
        "outputId": "0eeb0fcc-9894-4581-cc5e-6b0e6c2e46f0"
      },
      "outputs": [
        {
          "output_type": "stream",
          "name": "stdout",
          "text": [
            "Total de imágenes encontradas: 10222\n"
          ]
        }
      ],
      "source": [
        "import pandas as pd\n",
        "import numpy as np\n",
        "import glob, re\n",
        "from pathlib import Path\n",
        "from sklearn.model_selection import train_test_split\n",
        "from PIL import Image\n",
        "from tensorflow.keras.utils import to_categorical\n",
        "import tensorflow as tf\n",
        "from sklearn.metrics import f1_score\n",
        "\n",
        "DATA_DIR = Path(\"/content/DogBreedsDataRepo\")  # Adjust path\n",
        "IMG_DIR = DATA_DIR / \"train\"                  #For training set\n",
        "image_paths = sorted(glob.glob(str(IMG_DIR / \"*.jpg\")))\n",
        "print(\"Total de imágenes encontradas:\", len(image_paths))\n"
      ]
    },
    {
      "cell_type": "markdown",
      "source": [
        "Read labels.csv to create an index from image labels to the dog breed they reference."
      ],
      "metadata": {
        "id": "LjszYiZc2VqD"
      }
    },
    {
      "cell_type": "code",
      "source": [
        "labels_df = pd.read_csv(\"/content/DogBreedsDataRepo/labels.csv\")\n",
        "\n",
        "id_col    = [c for c in labels_df.columns if c.lower() in (\"id\",\"image_id\",\"label\",\"image\")][0]\n",
        "breed_col = [c for c in labels_df.columns if \"breed\" in c.lower()][0]\n",
        "\n",
        "print(\"id_col =\", id_col, \"| breed_col =\", breed_col)\n",
        "\n",
        "id2breed = dict(zip(labels_df[id_col].astype(str),\n",
        "                    labels_df[breed_col].astype(str)))"
      ],
      "metadata": {
        "colab": {
          "base_uri": "https://localhost:8080/"
        },
        "id": "rvxKHXGQoHtE",
        "outputId": "620259cc-f8d9-460e-8918-f6305fab7d3b"
      },
      "execution_count": 29,
      "outputs": [
        {
          "output_type": "stream",
          "name": "stdout",
          "text": [
            "id_col = id | breed_col = breed\n"
          ]
        }
      ]
    },
    {
      "cell_type": "markdown",
      "source": [
        "Connects indexes between labels.csv and image labels"
      ],
      "metadata": {
        "id": "kyQd7nQC2e8A"
      }
    },
    {
      "cell_type": "code",
      "source": [
        "\n",
        "def extract_label(path: str):\n",
        "    \"\"\"\n",
        "    Returns the breed associated with the image path according to labels.csv.\n",
        "    Requires a global dictionary id2breed: {image_id: breed}.\n",
        "    If image_id isn´t found in the dictionary, returns 'UNKNOWN'.\n",
        "    \"\"\"\n",
        "    image_id = Path(path).stem  # name without .jpg extension\n",
        "    return id2breed.get(image_id, \"UNKNOWN\")\n",
        "\n",
        "\n",
        "\n",
        "\n",
        "# Generates a list of breeds, not IDs\n",
        "breeds = [extract_label(p) for p in image_paths]"
      ],
      "metadata": {
        "id": "nc14G2pQp8kf"
      },
      "execution_count": 30,
      "outputs": []
    },
    {
      "cell_type": "markdown",
      "source": [
        "Creates a pandas dataframe with the image path, the filename and the breed name as the label."
      ],
      "metadata": {
        "id": "a_lHARCK3mAC"
      }
    },
    {
      "cell_type": "code",
      "source": [
        "df = pd.DataFrame({\n",
        "    \"path\": image_paths,\n",
        "    \"filename\": [Path(p).name for p in image_paths],\n",
        "    \"breed\": breeds\n",
        "})\n",
        "\n",
        "df.head()\n"
      ],
      "metadata": {
        "colab": {
          "base_uri": "https://localhost:8080/",
          "height": 206
        },
        "id": "KsnJjWpzoMkM",
        "outputId": "6acae207-dc22-4b4b-b13d-3dc92547cc01"
      },
      "execution_count": 31,
      "outputs": [
        {
          "output_type": "execute_result",
          "data": {
            "text/plain": [
              "                                                path  \\\n",
              "0  /content/DogBreedsDataRepo/train/000bec180eb18...   \n",
              "1  /content/DogBreedsDataRepo/train/001513dfcb2ff...   \n",
              "2  /content/DogBreedsDataRepo/train/001cdf01b096e...   \n",
              "3  /content/DogBreedsDataRepo/train/00214f311d5d2...   \n",
              "4  /content/DogBreedsDataRepo/train/0021f9ceb3235...   \n",
              "\n",
              "                               filename             breed  \n",
              "0  000bec180eb18c7604dcecc8fe0dba07.jpg       boston_bull  \n",
              "1  001513dfcb2ffafc82cccf4d8bbaba97.jpg             dingo  \n",
              "2  001cdf01b096e06d78e9e5112d419397.jpg          pekinese  \n",
              "3  00214f311d5d2247d5dfe4fe24b2303d.jpg          bluetick  \n",
              "4  0021f9ceb3235effd7fcde7f7538ed62.jpg  golden_retriever  "
            ],
            "text/html": [
              "\n",
              "  <div id=\"df-5c52f4a6-6633-4429-ad23-978671cc5a8d\" class=\"colab-df-container\">\n",
              "    <div>\n",
              "<style scoped>\n",
              "    .dataframe tbody tr th:only-of-type {\n",
              "        vertical-align: middle;\n",
              "    }\n",
              "\n",
              "    .dataframe tbody tr th {\n",
              "        vertical-align: top;\n",
              "    }\n",
              "\n",
              "    .dataframe thead th {\n",
              "        text-align: right;\n",
              "    }\n",
              "</style>\n",
              "<table border=\"1\" class=\"dataframe\">\n",
              "  <thead>\n",
              "    <tr style=\"text-align: right;\">\n",
              "      <th></th>\n",
              "      <th>path</th>\n",
              "      <th>filename</th>\n",
              "      <th>breed</th>\n",
              "    </tr>\n",
              "  </thead>\n",
              "  <tbody>\n",
              "    <tr>\n",
              "      <th>0</th>\n",
              "      <td>/content/DogBreedsDataRepo/train/000bec180eb18...</td>\n",
              "      <td>000bec180eb18c7604dcecc8fe0dba07.jpg</td>\n",
              "      <td>boston_bull</td>\n",
              "    </tr>\n",
              "    <tr>\n",
              "      <th>1</th>\n",
              "      <td>/content/DogBreedsDataRepo/train/001513dfcb2ff...</td>\n",
              "      <td>001513dfcb2ffafc82cccf4d8bbaba97.jpg</td>\n",
              "      <td>dingo</td>\n",
              "    </tr>\n",
              "    <tr>\n",
              "      <th>2</th>\n",
              "      <td>/content/DogBreedsDataRepo/train/001cdf01b096e...</td>\n",
              "      <td>001cdf01b096e06d78e9e5112d419397.jpg</td>\n",
              "      <td>pekinese</td>\n",
              "    </tr>\n",
              "    <tr>\n",
              "      <th>3</th>\n",
              "      <td>/content/DogBreedsDataRepo/train/00214f311d5d2...</td>\n",
              "      <td>00214f311d5d2247d5dfe4fe24b2303d.jpg</td>\n",
              "      <td>bluetick</td>\n",
              "    </tr>\n",
              "    <tr>\n",
              "      <th>4</th>\n",
              "      <td>/content/DogBreedsDataRepo/train/0021f9ceb3235...</td>\n",
              "      <td>0021f9ceb3235effd7fcde7f7538ed62.jpg</td>\n",
              "      <td>golden_retriever</td>\n",
              "    </tr>\n",
              "  </tbody>\n",
              "</table>\n",
              "</div>\n",
              "    <div class=\"colab-df-buttons\">\n",
              "\n",
              "  <div class=\"colab-df-container\">\n",
              "    <button class=\"colab-df-convert\" onclick=\"convertToInteractive('df-5c52f4a6-6633-4429-ad23-978671cc5a8d')\"\n",
              "            title=\"Convert this dataframe to an interactive table.\"\n",
              "            style=\"display:none;\">\n",
              "\n",
              "  <svg xmlns=\"http://www.w3.org/2000/svg\" height=\"24px\" viewBox=\"0 -960 960 960\">\n",
              "    <path d=\"M120-120v-720h720v720H120Zm60-500h600v-160H180v160Zm220 220h160v-160H400v160Zm0 220h160v-160H400v160ZM180-400h160v-160H180v160Zm440 0h160v-160H620v160ZM180-180h160v-160H180v160Zm440 0h160v-160H620v160Z\"/>\n",
              "  </svg>\n",
              "    </button>\n",
              "\n",
              "  <style>\n",
              "    .colab-df-container {\n",
              "      display:flex;\n",
              "      gap: 12px;\n",
              "    }\n",
              "\n",
              "    .colab-df-convert {\n",
              "      background-color: #E8F0FE;\n",
              "      border: none;\n",
              "      border-radius: 50%;\n",
              "      cursor: pointer;\n",
              "      display: none;\n",
              "      fill: #1967D2;\n",
              "      height: 32px;\n",
              "      padding: 0 0 0 0;\n",
              "      width: 32px;\n",
              "    }\n",
              "\n",
              "    .colab-df-convert:hover {\n",
              "      background-color: #E2EBFA;\n",
              "      box-shadow: 0px 1px 2px rgba(60, 64, 67, 0.3), 0px 1px 3px 1px rgba(60, 64, 67, 0.15);\n",
              "      fill: #174EA6;\n",
              "    }\n",
              "\n",
              "    .colab-df-buttons div {\n",
              "      margin-bottom: 4px;\n",
              "    }\n",
              "\n",
              "    [theme=dark] .colab-df-convert {\n",
              "      background-color: #3B4455;\n",
              "      fill: #D2E3FC;\n",
              "    }\n",
              "\n",
              "    [theme=dark] .colab-df-convert:hover {\n",
              "      background-color: #434B5C;\n",
              "      box-shadow: 0px 1px 3px 1px rgba(0, 0, 0, 0.15);\n",
              "      filter: drop-shadow(0px 1px 2px rgba(0, 0, 0, 0.3));\n",
              "      fill: #FFFFFF;\n",
              "    }\n",
              "  </style>\n",
              "\n",
              "    <script>\n",
              "      const buttonEl =\n",
              "        document.querySelector('#df-5c52f4a6-6633-4429-ad23-978671cc5a8d button.colab-df-convert');\n",
              "      buttonEl.style.display =\n",
              "        google.colab.kernel.accessAllowed ? 'block' : 'none';\n",
              "\n",
              "      async function convertToInteractive(key) {\n",
              "        const element = document.querySelector('#df-5c52f4a6-6633-4429-ad23-978671cc5a8d');\n",
              "        const dataTable =\n",
              "          await google.colab.kernel.invokeFunction('convertToInteractive',\n",
              "                                                    [key], {});\n",
              "        if (!dataTable) return;\n",
              "\n",
              "        const docLinkHtml = 'Like what you see? Visit the ' +\n",
              "          '<a target=\"_blank\" href=https://colab.research.google.com/notebooks/data_table.ipynb>data table notebook</a>'\n",
              "          + ' to learn more about interactive tables.';\n",
              "        element.innerHTML = '';\n",
              "        dataTable['output_type'] = 'display_data';\n",
              "        await google.colab.output.renderOutput(dataTable, element);\n",
              "        const docLink = document.createElement('div');\n",
              "        docLink.innerHTML = docLinkHtml;\n",
              "        element.appendChild(docLink);\n",
              "      }\n",
              "    </script>\n",
              "  </div>\n",
              "\n",
              "\n",
              "    <div id=\"df-06bad9e2-d9c3-439c-9b0c-4f443abfd770\">\n",
              "      <button class=\"colab-df-quickchart\" onclick=\"quickchart('df-06bad9e2-d9c3-439c-9b0c-4f443abfd770')\"\n",
              "                title=\"Suggest charts\"\n",
              "                style=\"display:none;\">\n",
              "\n",
              "<svg xmlns=\"http://www.w3.org/2000/svg\" height=\"24px\"viewBox=\"0 0 24 24\"\n",
              "     width=\"24px\">\n",
              "    <g>\n",
              "        <path d=\"M19 3H5c-1.1 0-2 .9-2 2v14c0 1.1.9 2 2 2h14c1.1 0 2-.9 2-2V5c0-1.1-.9-2-2-2zM9 17H7v-7h2v7zm4 0h-2V7h2v10zm4 0h-2v-4h2v4z\"/>\n",
              "    </g>\n",
              "</svg>\n",
              "      </button>\n",
              "\n",
              "<style>\n",
              "  .colab-df-quickchart {\n",
              "      --bg-color: #E8F0FE;\n",
              "      --fill-color: #1967D2;\n",
              "      --hover-bg-color: #E2EBFA;\n",
              "      --hover-fill-color: #174EA6;\n",
              "      --disabled-fill-color: #AAA;\n",
              "      --disabled-bg-color: #DDD;\n",
              "  }\n",
              "\n",
              "  [theme=dark] .colab-df-quickchart {\n",
              "      --bg-color: #3B4455;\n",
              "      --fill-color: #D2E3FC;\n",
              "      --hover-bg-color: #434B5C;\n",
              "      --hover-fill-color: #FFFFFF;\n",
              "      --disabled-bg-color: #3B4455;\n",
              "      --disabled-fill-color: #666;\n",
              "  }\n",
              "\n",
              "  .colab-df-quickchart {\n",
              "    background-color: var(--bg-color);\n",
              "    border: none;\n",
              "    border-radius: 50%;\n",
              "    cursor: pointer;\n",
              "    display: none;\n",
              "    fill: var(--fill-color);\n",
              "    height: 32px;\n",
              "    padding: 0;\n",
              "    width: 32px;\n",
              "  }\n",
              "\n",
              "  .colab-df-quickchart:hover {\n",
              "    background-color: var(--hover-bg-color);\n",
              "    box-shadow: 0 1px 2px rgba(60, 64, 67, 0.3), 0 1px 3px 1px rgba(60, 64, 67, 0.15);\n",
              "    fill: var(--button-hover-fill-color);\n",
              "  }\n",
              "\n",
              "  .colab-df-quickchart-complete:disabled,\n",
              "  .colab-df-quickchart-complete:disabled:hover {\n",
              "    background-color: var(--disabled-bg-color);\n",
              "    fill: var(--disabled-fill-color);\n",
              "    box-shadow: none;\n",
              "  }\n",
              "\n",
              "  .colab-df-spinner {\n",
              "    border: 2px solid var(--fill-color);\n",
              "    border-color: transparent;\n",
              "    border-bottom-color: var(--fill-color);\n",
              "    animation:\n",
              "      spin 1s steps(1) infinite;\n",
              "  }\n",
              "\n",
              "  @keyframes spin {\n",
              "    0% {\n",
              "      border-color: transparent;\n",
              "      border-bottom-color: var(--fill-color);\n",
              "      border-left-color: var(--fill-color);\n",
              "    }\n",
              "    20% {\n",
              "      border-color: transparent;\n",
              "      border-left-color: var(--fill-color);\n",
              "      border-top-color: var(--fill-color);\n",
              "    }\n",
              "    30% {\n",
              "      border-color: transparent;\n",
              "      border-left-color: var(--fill-color);\n",
              "      border-top-color: var(--fill-color);\n",
              "      border-right-color: var(--fill-color);\n",
              "    }\n",
              "    40% {\n",
              "      border-color: transparent;\n",
              "      border-right-color: var(--fill-color);\n",
              "      border-top-color: var(--fill-color);\n",
              "    }\n",
              "    60% {\n",
              "      border-color: transparent;\n",
              "      border-right-color: var(--fill-color);\n",
              "    }\n",
              "    80% {\n",
              "      border-color: transparent;\n",
              "      border-right-color: var(--fill-color);\n",
              "      border-bottom-color: var(--fill-color);\n",
              "    }\n",
              "    90% {\n",
              "      border-color: transparent;\n",
              "      border-bottom-color: var(--fill-color);\n",
              "    }\n",
              "  }\n",
              "</style>\n",
              "\n",
              "      <script>\n",
              "        async function quickchart(key) {\n",
              "          const quickchartButtonEl =\n",
              "            document.querySelector('#' + key + ' button');\n",
              "          quickchartButtonEl.disabled = true;  // To prevent multiple clicks.\n",
              "          quickchartButtonEl.classList.add('colab-df-spinner');\n",
              "          try {\n",
              "            const charts = await google.colab.kernel.invokeFunction(\n",
              "                'suggestCharts', [key], {});\n",
              "          } catch (error) {\n",
              "            console.error('Error during call to suggestCharts:', error);\n",
              "          }\n",
              "          quickchartButtonEl.classList.remove('colab-df-spinner');\n",
              "          quickchartButtonEl.classList.add('colab-df-quickchart-complete');\n",
              "        }\n",
              "        (() => {\n",
              "          let quickchartButtonEl =\n",
              "            document.querySelector('#df-06bad9e2-d9c3-439c-9b0c-4f443abfd770 button');\n",
              "          quickchartButtonEl.style.display =\n",
              "            google.colab.kernel.accessAllowed ? 'block' : 'none';\n",
              "        })();\n",
              "      </script>\n",
              "    </div>\n",
              "\n",
              "    </div>\n",
              "  </div>\n"
            ],
            "application/vnd.google.colaboratory.intrinsic+json": {
              "type": "dataframe",
              "variable_name": "df",
              "summary": "{\n  \"name\": \"df\",\n  \"rows\": 10222,\n  \"fields\": [\n    {\n      \"column\": \"path\",\n      \"properties\": {\n        \"dtype\": \"string\",\n        \"num_unique_values\": 10222,\n        \"samples\": [\n          \"/content/DogBreedsDataRepo/train/475171ec5847e4df41847e295b8cfca2.jpg\",\n          \"/content/DogBreedsDataRepo/train/70c412a3ce894c617cbe707f24adbb82.jpg\",\n          \"/content/DogBreedsDataRepo/train/c13427fc3db9194dac02b1721bd10fe4.jpg\"\n        ],\n        \"semantic_type\": \"\",\n        \"description\": \"\"\n      }\n    },\n    {\n      \"column\": \"filename\",\n      \"properties\": {\n        \"dtype\": \"string\",\n        \"num_unique_values\": 10222,\n        \"samples\": [\n          \"475171ec5847e4df41847e295b8cfca2.jpg\",\n          \"70c412a3ce894c617cbe707f24adbb82.jpg\",\n          \"c13427fc3db9194dac02b1721bd10fe4.jpg\"\n        ],\n        \"semantic_type\": \"\",\n        \"description\": \"\"\n      }\n    },\n    {\n      \"column\": \"breed\",\n      \"properties\": {\n        \"dtype\": \"category\",\n        \"num_unique_values\": 120,\n        \"samples\": [\n          \"rhodesian_ridgeback\",\n          \"bloodhound\",\n          \"golden_retriever\"\n        ],\n        \"semantic_type\": \"\",\n        \"description\": \"\"\n      }\n    }\n  ]\n}"
            }
          },
          "metadata": {},
          "execution_count": 31
        }
      ]
    },
    {
      "cell_type": "markdown",
      "source": [
        "Check nº of breeds detected in data, and the breed with the least and most apperances."
      ],
      "metadata": {
        "id": "o4C6_VCsR63E"
      }
    },
    {
      "cell_type": "code",
      "source": [
        "classes = df['breed'].unique()\n",
        "NUM_CLASSES = len(classes)\n",
        "label2idx = {breed:idx for idx, breed in enumerate(classes)}\n",
        "print(\"Nº of detected breeds:\", NUM_CLASSES)\n",
        "counts = df['breed'].value_counts()\n",
        "print(f\"Breed with the most images: {counts.idxmax()} with {counts.max()}\")\n",
        "print(f\"Breed with the least images: {counts.idxmin()} with {counts.min()}\")"
      ],
      "metadata": {
        "colab": {
          "base_uri": "https://localhost:8080/"
        },
        "id": "Ca5IoJP5CuyJ",
        "outputId": "7d57a9b2-8b58-478f-fe3f-aa97baed869c"
      },
      "execution_count": 32,
      "outputs": [
        {
          "output_type": "stream",
          "name": "stdout",
          "text": [
            "Nº of detected breeds: 120\n",
            "Breed with the most images: scottish_deerhound with 126\n",
            "Breed with the least images: eskimo_dog with 66\n"
          ]
        }
      ]
    },
    {
      "cell_type": "code",
      "source": [
        "\n",
        "\n",
        "\n",
        "FRACTION = 0.3\n",
        "RANDOM_STATE = 42\n",
        "\n",
        "print(\"Total original:\", len(df))\n",
        "\n",
        "\n",
        "df = (\n",
        "    df\n",
        "    .groupby('breed', group_keys=False)        # agrupa por raza…\n",
        "    .apply(lambda grp: grp.sample(\n",
        "        frac=FRACTION,\n",
        "        random_state=RANDOM_STATE\n",
        "    ))\n",
        "    .reset_index(drop=True)\n",
        ")\n",
        "\n",
        "# Verifica\n",
        "\n",
        "print(\"Total subsample:\", len(df))\n",
        "print(\"Distribución subsample:\")\n",
        "print(df['breed'].value_counts().head())\n",
        "\n",
        "\n"
      ],
      "metadata": {
        "colab": {
          "base_uri": "https://localhost:8080/"
        },
        "id": "VB58UX5DdMM5",
        "outputId": "13fb009d-21b2-4acb-e0b5-a9e31a5d8c2e"
      },
      "execution_count": 33,
      "outputs": [
        {
          "output_type": "stream",
          "name": "stdout",
          "text": [
            "Total original: 10222\n",
            "Total subsample: 3070\n",
            "Distribución subsample:\n",
            "breed\n",
            "scottish_deerhound      38\n",
            "afghan_hound            35\n",
            "maltese_dog             35\n",
            "bernese_mountain_dog    34\n",
            "entlebucher             34\n",
            "Name: count, dtype: int64\n"
          ]
        },
        {
          "output_type": "stream",
          "name": "stderr",
          "text": [
            "/tmp/ipython-input-33-2656658781.py:10: DeprecationWarning: DataFrameGroupBy.apply operated on the grouping columns. This behavior is deprecated, and in a future version of pandas the grouping columns will be excluded from the operation. Either pass `include_groups=False` to exclude the groupings or explicitly select the grouping columns after groupby to silence this warning.\n",
            "  .apply(lambda grp: grp.sample(\n"
          ]
        }
      ]
    },
    {
      "cell_type": "markdown",
      "source": [
        "Separate into training, validation and testing set. With 70/15/15 split."
      ],
      "metadata": {
        "id": "zFb4VzOQTxDT"
      }
    },
    {
      "cell_type": "code",
      "source": [
        "\n",
        "SEED = 42\n",
        "\n",
        "# Separate testing set (15%)\n",
        "train_val_df, test_df = train_test_split(df, test_size=0.15, stratify=df[\"breed\"], random_state=SEED)\n",
        "\n",
        "# Separate a global 15% for validate set from the 85% remaining\n",
        "\n",
        "val_rel = 0.15 / 0.85\n",
        "\n",
        "train_df, val_df = train_test_split(train_val_df, test_size=val_rel, stratify=train_val_df['breed'], random_state=SEED)\n",
        "\n",
        "print(f\"Tamaños -> Train: {len(train_df)} | Val: {len(val_df)} | Test: {len(test_df)}\")"
      ],
      "metadata": {
        "colab": {
          "base_uri": "https://localhost:8080/"
        },
        "id": "XgBQlmnFQrlx",
        "outputId": "8ba57c94-12b6-48e8-bb9c-e4fa8105f69e"
      },
      "execution_count": 34,
      "outputs": [
        {
          "output_type": "stream",
          "name": "stdout",
          "text": [
            "Tamaños -> Train: 2148 | Val: 461 | Test: 461\n"
          ]
        }
      ]
    },
    {
      "cell_type": "markdown",
      "source": [
        "Statistics for training, validation and testing sets."
      ],
      "metadata": {
        "id": "5aBoPuAtT4kh"
      }
    },
    {
      "cell_type": "code",
      "source": [
        "subsets = {\"Training set\": train_df, \"Validation set\": val_df, \"Test set\": test_df}\n",
        "for name, i in subsets.items():\n",
        "  print(f\"\\n\\n\\nStatisctics for {name}\")\n",
        "  num_classes = i['breed'].nunique()\n",
        "  print(f\"Nº of entries: {len(i)}\")\n",
        "  print(\"Nº of detected breeds:\", num_classes)\n",
        "  counts = i['breed'].value_counts()\n",
        "\n",
        "  print(f\"Breed with the most images: {counts.idxmax()} with {counts.max()}\")\n",
        "  print(f\"Breed with the least images: {counts.idxmin()} with {counts.min()}\")\n",
        "  print(f\"Ratio: {counts.max() / counts.min()}\")\n",
        "\n"
      ],
      "metadata": {
        "colab": {
          "base_uri": "https://localhost:8080/"
        },
        "id": "jwhaPMEET8NY",
        "outputId": "875e5d3e-9434-402d-b1f1-17f7e6c03274"
      },
      "execution_count": 35,
      "outputs": [
        {
          "output_type": "stream",
          "name": "stdout",
          "text": [
            "\n",
            "\n",
            "\n",
            "Statisctics for Training set\n",
            "Nº of entries: 2148\n",
            "Nº of detected breeds: 120\n",
            "Breed with the most images: scottish_deerhound with 26\n",
            "Breed with the least images: brabancon_griffon with 14\n",
            "Ratio: 1.8571428571428572\n",
            "\n",
            "\n",
            "\n",
            "Statisctics for Validation set\n",
            "Nº of entries: 461\n",
            "Nº of detected breeds: 120\n",
            "Breed with the most images: scottish_deerhound with 6\n",
            "Breed with the least images: vizsla with 3\n",
            "Ratio: 2.0\n",
            "\n",
            "\n",
            "\n",
            "Statisctics for Test set\n",
            "Nº of entries: 461\n",
            "Nº of detected breeds: 120\n",
            "Breed with the most images: scottish_deerhound with 6\n",
            "Breed with the least images: redbone with 3\n",
            "Ratio: 2.0\n"
          ]
        }
      ]
    },
    {
      "cell_type": "code",
      "source": [
        "IMG_SIZE = 224\n",
        "AUTOTUNE = tf.data.AUTOTUNE\n",
        "\n",
        "def make_dataset(paths, labels, batch_size, training=False):\n",
        "    ds = tf.data.Dataset.from_tensor_slices((paths, labels))\n",
        "    if training:\n",
        "        ds = ds.shuffle(buffer_size=len(paths), seed=42)\n",
        "    ds = ds.map(\n",
        "        lambda p,y: (\n",
        "            tf.keras.applications.efficientnet.preprocess_input(\n",
        "                tf.image.resize(\n",
        "                    tf.image.decode_jpeg(tf.io.read_file(p), channels=3),\n",
        "                    (IMG_SIZE, IMG_SIZE)\n",
        "                )\n",
        "            ), y\n",
        "        ),\n",
        "        num_parallel_calls=AUTOTUNE\n",
        "    )\n",
        "    if training:\n",
        "        aug = tf.keras.Sequential([\n",
        "            tf.keras.layers.RandomFlip(\"horizontal\"),\n",
        "            tf.keras.layers.RandomRotation(0.08),\n",
        "            tf.keras.layers.RandomZoom(0.1),\n",
        "            tf.keras.layers.RandomContrast(0.1),\n",
        "        ])\n",
        "        ds = ds.map(lambda x,y: (aug(x, training=True), y),\n",
        "                    num_parallel_calls=AUTOTUNE)\n",
        "    return ds.batch(batch_size).prefetch(AUTOTUNE)\n",
        "\n",
        "def build_model(lr):\n",
        "    base = tf.keras.applications.EfficientNetB0(\n",
        "        include_top=False, weights=\"imagenet\",\n",
        "        input_shape=(IMG_SIZE, IMG_SIZE, 3), pooling=\"avg\"\n",
        "    )\n",
        "    base.trainable = False\n",
        "    inputs  = tf.keras.Input((IMG_SIZE, IMG_SIZE, 3))\n",
        "    x       = base(inputs, training=False)\n",
        "    x       = tf.keras.layers.Dropout(0.4)(x)\n",
        "    outputs = tf.keras.layers.Dense(NUM_CLASSES, activation=\"softmax\")(x)\n",
        "    m = tf.keras.Model(inputs, outputs)\n",
        "    m.compile(\n",
        "        optimizer=tf.keras.optimizers.Adam(lr),\n",
        "        loss=\"sparse_categorical_crossentropy\",\n",
        "        metrics=[\"accuracy\"]\n",
        "    )\n",
        "    return m\n",
        "\n",
        "# Configuraciones a probar\n",
        "configs = [\n",
        "    (0.01,   10, 32),\n",
        "    (0.01,   10, 64),\n",
        "    (0.001,  20, 32),\n",
        "    (0.001,  20, 64),\n",
        "    (0.0001, 30, 32),\n",
        "    (0.0001, 30, 64),\n",
        "]\n",
        "\n",
        "# Preparamos test set (etiquetas e imágenes)\n",
        "y_test_idx = test_df['breed'].map(label2idx).values\n",
        "test_paths = test_df['path'].values\n",
        "\n",
        "results = []\n",
        "for lr, epochs, batch_size in configs:\n",
        "    # Creamos los datasets\n",
        "    train_ds = make_dataset(\n",
        "        train_df['path'].values,\n",
        "        train_df['breed'].map(label2idx).values,\n",
        "        batch_size, training=True\n",
        "    )\n",
        "    val_ds = make_dataset(\n",
        "        val_df['path'].values,\n",
        "        val_df['breed'].map(label2idx).values,\n",
        "        batch_size, training=False\n",
        "    )\n",
        "    test_ds = make_dataset(test_paths, y_test_idx, batch_size, training=False)\n",
        "\n",
        "    # Construimos y compilamos el modelo\n",
        "    model = build_model(lr)\n",
        "\n",
        "    # Callback de EarlyStopping\n",
        "    early = tf.keras.callbacks.EarlyStopping(\n",
        "        monitor=\"val_loss\",\n",
        "        patience=3,\n",
        "        restore_best_weights=True\n",
        "    )\n",
        "\n",
        "    # Entrenamos con EarlyStopping\n",
        "    model.fit(\n",
        "        train_ds,\n",
        "        validation_data=val_ds,\n",
        "        epochs=epochs,\n",
        "        callbacks=[early],\n",
        "        verbose=1\n",
        "    )\n",
        "\n",
        "    # Evaluación final en test\n",
        "    loss, acc = model.evaluate(test_ds, verbose=0)\n",
        "    preds     = np.argmax(model.predict(test_ds, verbose=0), axis=1)\n",
        "    f1w       = f1_score(y_test_idx, preds, average='weighted')\n",
        "\n",
        "    results.append({\n",
        "        \"lr\": lr,\n",
        "        \"epochs\": epochs,\n",
        "        \"batch_size\": batch_size,\n",
        "        \"test_loss\": loss,\n",
        "        \"test_acc\": acc,\n",
        "        \"test_f1_weighted\": f1w\n",
        "    })\n",
        "\n",
        "# Mostrar resultados finales\n",
        "df_results = pd.DataFrame(results)\n",
        "print(df_results.to_string(index=False))"
      ],
      "metadata": {
        "colab": {
          "base_uri": "https://localhost:8080/"
        },
        "id": "Y48z3cDUBYfJ",
        "outputId": "d9e81d6f-d802-49b6-ab99-295ddbbc755f"
      },
      "execution_count": 37,
      "outputs": [
        {
          "output_type": "stream",
          "name": "stdout",
          "text": [
            "Epoch 1/10\n",
            "\u001b[1m68/68\u001b[0m \u001b[32m━━━━━━━━━━━━━━━━━━━━\u001b[0m\u001b[37m\u001b[0m \u001b[1m233s\u001b[0m 3s/step - accuracy: 0.2905 - loss: 3.4468 - val_accuracy: 0.7093 - val_loss: 0.9459\n",
            "Epoch 2/10\n",
            "\u001b[1m68/68\u001b[0m \u001b[32m━━━━━━━━━━━━━━━━━━━━\u001b[0m\u001b[37m\u001b[0m \u001b[1m263s\u001b[0m 3s/step - accuracy: 0.8045 - loss: 0.6066 - val_accuracy: 0.7505 - val_loss: 0.8616\n",
            "Epoch 3/10\n",
            "\u001b[1m68/68\u001b[0m \u001b[32m━━━━━━━━━━━━━━━━━━━━\u001b[0m\u001b[37m\u001b[0m \u001b[1m213s\u001b[0m 3s/step - accuracy: 0.8957 - loss: 0.2992 - val_accuracy: 0.7397 - val_loss: 0.9318\n",
            "Epoch 4/10\n",
            "\u001b[1m68/68\u001b[0m \u001b[32m━━━━━━━━━━━━━━━━━━━━\u001b[0m\u001b[37m\u001b[0m \u001b[1m269s\u001b[0m 3s/step - accuracy: 0.9007 - loss: 0.3036 - val_accuracy: 0.7505 - val_loss: 0.9025\n",
            "Epoch 5/10\n",
            "\u001b[1m68/68\u001b[0m \u001b[32m━━━━━━━━━━━━━━━━━━━━\u001b[0m\u001b[37m\u001b[0m \u001b[1m219s\u001b[0m 3s/step - accuracy: 0.9206 - loss: 0.2371 - val_accuracy: 0.7636 - val_loss: 0.9308\n",
            "Epoch 1/10\n",
            "\u001b[1m34/34\u001b[0m \u001b[32m━━━━━━━━━━━━━━━━━━━━\u001b[0m\u001b[37m\u001b[0m \u001b[1m246s\u001b[0m 7s/step - accuracy: 0.2561 - loss: 3.4509 - val_accuracy: 0.7223 - val_loss: 0.8867\n",
            "Epoch 2/10\n",
            "\u001b[1m34/34\u001b[0m \u001b[32m━━━━━━━━━━━━━━━━━━━━\u001b[0m\u001b[37m\u001b[0m \u001b[1m260s\u001b[0m 7s/step - accuracy: 0.8170 - loss: 0.5756 - val_accuracy: 0.7397 - val_loss: 0.7847\n",
            "Epoch 3/10\n",
            "\u001b[1m34/34\u001b[0m \u001b[32m━━━━━━━━━━━━━━━━━━━━\u001b[0m\u001b[37m\u001b[0m \u001b[1m231s\u001b[0m 7s/step - accuracy: 0.8999 - loss: 0.3324 - val_accuracy: 0.7679 - val_loss: 0.7900\n",
            "Epoch 4/10\n",
            "\u001b[1m34/34\u001b[0m \u001b[32m━━━━━━━━━━━━━━━━━━━━\u001b[0m\u001b[37m\u001b[0m \u001b[1m225s\u001b[0m 7s/step - accuracy: 0.9206 - loss: 0.2540 - val_accuracy: 0.7614 - val_loss: 0.7909\n",
            "Epoch 5/10\n",
            "\u001b[1m34/34\u001b[0m \u001b[32m━━━━━━━━━━━━━━━━━━━━\u001b[0m\u001b[37m\u001b[0m \u001b[1m267s\u001b[0m 7s/step - accuracy: 0.9397 - loss: 0.1832 - val_accuracy: 0.7896 - val_loss: 0.7540\n",
            "Epoch 6/10\n",
            "\u001b[1m34/34\u001b[0m \u001b[32m━━━━━━━━━━━━━━━━━━━━\u001b[0m\u001b[37m\u001b[0m \u001b[1m230s\u001b[0m 7s/step - accuracy: 0.9640 - loss: 0.1361 - val_accuracy: 0.7787 - val_loss: 0.7957\n",
            "Epoch 7/10\n",
            "\u001b[1m34/34\u001b[0m \u001b[32m━━━━━━━━━━━━━━━━━━━━\u001b[0m\u001b[37m\u001b[0m \u001b[1m230s\u001b[0m 7s/step - accuracy: 0.9575 - loss: 0.1262 - val_accuracy: 0.7636 - val_loss: 0.8367\n",
            "Epoch 8/10\n",
            "\u001b[1m34/34\u001b[0m \u001b[32m━━━━━━━━━━━━━━━━━━━━\u001b[0m\u001b[37m\u001b[0m \u001b[1m229s\u001b[0m 7s/step - accuracy: 0.9701 - loss: 0.1033 - val_accuracy: 0.7701 - val_loss: 0.9093\n",
            "Epoch 1/20\n",
            "\u001b[1m68/68\u001b[0m \u001b[32m━━━━━━━━━━━━━━━━━━━━\u001b[0m\u001b[37m\u001b[0m \u001b[1m235s\u001b[0m 3s/step - accuracy: 0.1023 - loss: 4.4745 - val_accuracy: 0.6421 - val_loss: 2.5798\n",
            "Epoch 2/20\n",
            "\u001b[1m68/68\u001b[0m \u001b[32m━━━━━━━━━━━━━━━━━━━━\u001b[0m\u001b[37m\u001b[0m \u001b[1m221s\u001b[0m 3s/step - accuracy: 0.6262 - loss: 2.2949 - val_accuracy: 0.7375 - val_loss: 1.5396\n",
            "Epoch 3/20\n",
            "\u001b[1m68/68\u001b[0m \u001b[32m━━━━━━━━━━━━━━━━━━━━\u001b[0m\u001b[37m\u001b[0m \u001b[1m214s\u001b[0m 3s/step - accuracy: 0.7926 - loss: 1.3756 - val_accuracy: 0.7657 - val_loss: 1.1407\n",
            "Epoch 4/20\n",
            "\u001b[1m68/68\u001b[0m \u001b[32m━━━━━━━━━━━━━━━━━━━━\u001b[0m\u001b[37m\u001b[0m \u001b[1m223s\u001b[0m 3s/step - accuracy: 0.8293 - loss: 0.9908 - val_accuracy: 0.7701 - val_loss: 0.9637\n",
            "Epoch 5/20\n",
            "\u001b[1m68/68\u001b[0m \u001b[32m━━━━━━━━━━━━━━━━━━━━\u001b[0m\u001b[37m\u001b[0m \u001b[1m261s\u001b[0m 3s/step - accuracy: 0.8725 - loss: 0.7603 - val_accuracy: 0.7918 - val_loss: 0.8529\n",
            "Epoch 6/20\n",
            "\u001b[1m68/68\u001b[0m \u001b[32m━━━━━━━━━━━━━━━━━━━━\u001b[0m\u001b[37m\u001b[0m \u001b[1m261s\u001b[0m 3s/step - accuracy: 0.8872 - loss: 0.6538 - val_accuracy: 0.7961 - val_loss: 0.7946\n",
            "Epoch 7/20\n",
            "\u001b[1m68/68\u001b[0m \u001b[32m━━━━━━━━━━━━━━━━━━━━\u001b[0m\u001b[37m\u001b[0m \u001b[1m263s\u001b[0m 3s/step - accuracy: 0.9266 - loss: 0.4956 - val_accuracy: 0.7852 - val_loss: 0.7576\n",
            "Epoch 8/20\n",
            "\u001b[1m68/68\u001b[0m \u001b[32m━━━━━━━━━━━━━━━━━━━━\u001b[0m\u001b[37m\u001b[0m \u001b[1m222s\u001b[0m 3s/step - accuracy: 0.9212 - loss: 0.4751 - val_accuracy: 0.7918 - val_loss: 0.7372\n",
            "Epoch 9/20\n",
            "\u001b[1m68/68\u001b[0m \u001b[32m━━━━━━━━━━━━━━━━━━━━\u001b[0m\u001b[37m\u001b[0m \u001b[1m225s\u001b[0m 3s/step - accuracy: 0.9326 - loss: 0.4071 - val_accuracy: 0.7939 - val_loss: 0.7126\n",
            "Epoch 10/20\n",
            "\u001b[1m68/68\u001b[0m \u001b[32m━━━━━━━━━━━━━━━━━━━━\u001b[0m\u001b[37m\u001b[0m \u001b[1m262s\u001b[0m 3s/step - accuracy: 0.9485 - loss: 0.3471 - val_accuracy: 0.7874 - val_loss: 0.7006\n",
            "Epoch 11/20\n",
            "\u001b[1m68/68\u001b[0m \u001b[32m━━━━━━━━━━━━━━━━━━━━\u001b[0m\u001b[37m\u001b[0m \u001b[1m221s\u001b[0m 3s/step - accuracy: 0.9503 - loss: 0.3330 - val_accuracy: 0.7896 - val_loss: 0.6844\n",
            "Epoch 12/20\n",
            "\u001b[1m68/68\u001b[0m \u001b[32m━━━━━━━━━━━━━━━━━━━━\u001b[0m\u001b[37m\u001b[0m \u001b[1m263s\u001b[0m 3s/step - accuracy: 0.9529 - loss: 0.3094 - val_accuracy: 0.7939 - val_loss: 0.6736\n",
            "Epoch 13/20\n",
            "\u001b[1m68/68\u001b[0m \u001b[32m━━━━━━━━━━━━━━━━━━━━\u001b[0m\u001b[37m\u001b[0m \u001b[1m221s\u001b[0m 3s/step - accuracy: 0.9627 - loss: 0.2699 - val_accuracy: 0.7918 - val_loss: 0.6637\n",
            "Epoch 14/20\n",
            "\u001b[1m68/68\u001b[0m \u001b[32m━━━━━━━━━━━━━━━━━━━━\u001b[0m\u001b[37m\u001b[0m \u001b[1m263s\u001b[0m 3s/step - accuracy: 0.9697 - loss: 0.2408 - val_accuracy: 0.7961 - val_loss: 0.6546\n",
            "Epoch 15/20\n",
            "\u001b[1m68/68\u001b[0m \u001b[32m━━━━━━━━━━━━━━━━━━━━\u001b[0m\u001b[37m\u001b[0m \u001b[1m262s\u001b[0m 3s/step - accuracy: 0.9706 - loss: 0.2268 - val_accuracy: 0.7939 - val_loss: 0.6551\n",
            "Epoch 16/20\n",
            "\u001b[1m68/68\u001b[0m \u001b[32m━━━━━━━━━━━━━━━━━━━━\u001b[0m\u001b[37m\u001b[0m \u001b[1m223s\u001b[0m 3s/step - accuracy: 0.9746 - loss: 0.2177 - val_accuracy: 0.8156 - val_loss: 0.6563\n",
            "Epoch 17/20\n",
            "\u001b[1m68/68\u001b[0m \u001b[32m━━━━━━━━━━━━━━━━━━━━\u001b[0m\u001b[37m\u001b[0m \u001b[1m220s\u001b[0m 3s/step - accuracy: 0.9728 - loss: 0.1978 - val_accuracy: 0.7983 - val_loss: 0.6474\n",
            "Epoch 18/20\n",
            "\u001b[1m68/68\u001b[0m \u001b[32m━━━━━━━━━━━━━━━━━━━━\u001b[0m\u001b[37m\u001b[0m \u001b[1m265s\u001b[0m 3s/step - accuracy: 0.9809 - loss: 0.1836 - val_accuracy: 0.7961 - val_loss: 0.6462\n",
            "Epoch 19/20\n",
            "\u001b[1m68/68\u001b[0m \u001b[32m━━━━━━━━━━━━━━━━━━━━\u001b[0m\u001b[37m\u001b[0m \u001b[1m213s\u001b[0m 3s/step - accuracy: 0.9788 - loss: 0.1673 - val_accuracy: 0.8026 - val_loss: 0.6498\n",
            "Epoch 20/20\n",
            "\u001b[1m68/68\u001b[0m \u001b[32m━━━━━━━━━━━━━━━━━━━━\u001b[0m\u001b[37m\u001b[0m \u001b[1m221s\u001b[0m 3s/step - accuracy: 0.9822 - loss: 0.1632 - val_accuracy: 0.8178 - val_loss: 0.6550\n"
          ]
        },
        {
          "output_type": "stream",
          "name": "stderr",
          "text": [
            "WARNING:tensorflow:5 out of the last 24 calls to <function TensorFlowTrainer.make_predict_function.<locals>.one_step_on_data_distributed at 0x7b070c20e2a0> triggered tf.function retracing. Tracing is expensive and the excessive number of tracings could be due to (1) creating @tf.function repeatedly in a loop, (2) passing tensors with different shapes, (3) passing Python objects instead of tensors. For (1), please define your @tf.function outside of the loop. For (2), @tf.function has reduce_retracing=True option that can avoid unnecessary retracing. For (3), please refer to https://www.tensorflow.org/guide/function#controlling_retracing and https://www.tensorflow.org/api_docs/python/tf/function for  more details.\n"
          ]
        },
        {
          "output_type": "stream",
          "name": "stdout",
          "text": [
            "Epoch 1/20\n",
            "\u001b[1m34/34\u001b[0m \u001b[32m━━━━━━━━━━━━━━━━━━━━\u001b[0m\u001b[37m\u001b[0m \u001b[1m249s\u001b[0m 7s/step - accuracy: 0.0715 - loss: 4.5723 - val_accuracy: 0.5249 - val_loss: 3.1734\n",
            "Epoch 2/20\n",
            "\u001b[1m34/34\u001b[0m \u001b[32m━━━━━━━━━━━━━━━━━━━━\u001b[0m\u001b[37m\u001b[0m \u001b[1m229s\u001b[0m 7s/step - accuracy: 0.5191 - loss: 2.8815 - val_accuracy: 0.6898 - val_loss: 2.0731\n",
            "Epoch 3/20\n",
            "\u001b[1m34/34\u001b[0m \u001b[32m━━━━━━━━━━━━━━━━━━━━\u001b[0m\u001b[37m\u001b[0m \u001b[1m228s\u001b[0m 7s/step - accuracy: 0.7042 - loss: 1.8799 - val_accuracy: 0.7180 - val_loss: 1.5045\n",
            "Epoch 4/20\n",
            "\u001b[1m34/34\u001b[0m \u001b[32m━━━━━━━━━━━━━━━━━━━━\u001b[0m\u001b[37m\u001b[0m \u001b[1m229s\u001b[0m 7s/step - accuracy: 0.7827 - loss: 1.3558 - val_accuracy: 0.7419 - val_loss: 1.2150\n",
            "Epoch 5/20\n",
            "\u001b[1m34/34\u001b[0m \u001b[32m━━━━━━━━━━━━━━━━━━━━\u001b[0m\u001b[37m\u001b[0m \u001b[1m230s\u001b[0m 7s/step - accuracy: 0.8272 - loss: 1.0682 - val_accuracy: 0.7549 - val_loss: 1.0461\n",
            "Epoch 6/20\n",
            "\u001b[1m34/34\u001b[0m \u001b[32m━━━━━━━━━━━━━━━━━━━━\u001b[0m\u001b[37m\u001b[0m \u001b[1m260s\u001b[0m 7s/step - accuracy: 0.8475 - loss: 0.8919 - val_accuracy: 0.7722 - val_loss: 0.9396\n",
            "Epoch 7/20\n",
            "\u001b[1m34/34\u001b[0m \u001b[32m━━━━━━━━━━━━━━━━━━━━\u001b[0m\u001b[37m\u001b[0m \u001b[1m229s\u001b[0m 7s/step - accuracy: 0.8723 - loss: 0.7397 - val_accuracy: 0.7744 - val_loss: 0.8710\n",
            "Epoch 8/20\n",
            "\u001b[1m34/34\u001b[0m \u001b[32m━━━━━━━━━━━━━━━━━━━━\u001b[0m\u001b[37m\u001b[0m \u001b[1m229s\u001b[0m 7s/step - accuracy: 0.8980 - loss: 0.6415 - val_accuracy: 0.7766 - val_loss: 0.8219\n",
            "Epoch 9/20\n",
            "\u001b[1m34/34\u001b[0m \u001b[32m━━━━━━━━━━━━━━━━━━━━\u001b[0m\u001b[37m\u001b[0m \u001b[1m229s\u001b[0m 7s/step - accuracy: 0.9048 - loss: 0.5734 - val_accuracy: 0.7831 - val_loss: 0.7898\n",
            "Epoch 10/20\n",
            "\u001b[1m34/34\u001b[0m \u001b[32m━━━━━━━━━━━━━━━━━━━━\u001b[0m\u001b[37m\u001b[0m \u001b[1m229s\u001b[0m 7s/step - accuracy: 0.9246 - loss: 0.5102 - val_accuracy: 0.7896 - val_loss: 0.7592\n",
            "Epoch 11/20\n",
            "\u001b[1m34/34\u001b[0m \u001b[32m━━━━━━━━━━━━━━━━━━━━\u001b[0m\u001b[37m\u001b[0m \u001b[1m229s\u001b[0m 7s/step - accuracy: 0.9277 - loss: 0.4751 - val_accuracy: 0.7918 - val_loss: 0.7427\n",
            "Epoch 12/20\n",
            "\u001b[1m34/34\u001b[0m \u001b[32m━━━━━━━━━━━━━━━━━━━━\u001b[0m\u001b[37m\u001b[0m \u001b[1m231s\u001b[0m 7s/step - accuracy: 0.9340 - loss: 0.4405 - val_accuracy: 0.8026 - val_loss: 0.7200\n",
            "Epoch 13/20\n",
            "\u001b[1m34/34\u001b[0m \u001b[32m━━━━━━━━━━━━━━━━━━━━\u001b[0m\u001b[37m\u001b[0m \u001b[1m261s\u001b[0m 7s/step - accuracy: 0.9418 - loss: 0.3867 - val_accuracy: 0.8048 - val_loss: 0.7059\n",
            "Epoch 14/20\n",
            "\u001b[1m34/34\u001b[0m \u001b[32m━━━━━━━━━━━━━━━━━━━━\u001b[0m\u001b[37m\u001b[0m \u001b[1m231s\u001b[0m 7s/step - accuracy: 0.9413 - loss: 0.3722 - val_accuracy: 0.8004 - val_loss: 0.6946\n",
            "Epoch 15/20\n",
            "\u001b[1m34/34\u001b[0m \u001b[32m━━━━━━━━━━━━━━━━━━━━\u001b[0m\u001b[37m\u001b[0m \u001b[1m228s\u001b[0m 7s/step - accuracy: 0.9521 - loss: 0.3346 - val_accuracy: 0.8026 - val_loss: 0.6860\n",
            "Epoch 16/20\n",
            "\u001b[1m34/34\u001b[0m \u001b[32m━━━━━━━━━━━━━━━━━━━━\u001b[0m\u001b[37m\u001b[0m \u001b[1m228s\u001b[0m 7s/step - accuracy: 0.9659 - loss: 0.2963 - val_accuracy: 0.8026 - val_loss: 0.6828\n",
            "Epoch 17/20\n",
            "\u001b[1m34/34\u001b[0m \u001b[32m━━━━━━━━━━━━━━━━━━━━\u001b[0m\u001b[37m\u001b[0m \u001b[1m262s\u001b[0m 7s/step - accuracy: 0.9654 - loss: 0.2821 - val_accuracy: 0.8026 - val_loss: 0.6737\n",
            "Epoch 18/20\n",
            "\u001b[1m34/34\u001b[0m \u001b[32m━━━━━━━━━━━━━━━━━━━━\u001b[0m\u001b[37m\u001b[0m \u001b[1m261s\u001b[0m 7s/step - accuracy: 0.9676 - loss: 0.2643 - val_accuracy: 0.7961 - val_loss: 0.6719\n",
            "Epoch 19/20\n",
            "\u001b[1m34/34\u001b[0m \u001b[32m━━━━━━━━━━━━━━━━━━━━\u001b[0m\u001b[37m\u001b[0m \u001b[1m223s\u001b[0m 6s/step - accuracy: 0.9742 - loss: 0.2528 - val_accuracy: 0.7983 - val_loss: 0.6652\n",
            "Epoch 20/20\n",
            "\u001b[1m34/34\u001b[0m \u001b[32m━━━━━━━━━━━━━━━━━━━━\u001b[0m\u001b[37m\u001b[0m \u001b[1m269s\u001b[0m 7s/step - accuracy: 0.9777 - loss: 0.2253 - val_accuracy: 0.8048 - val_loss: 0.6602\n",
            "Epoch 1/30\n",
            "\u001b[1m68/68\u001b[0m \u001b[32m━━━━━━━━━━━━━━━━━━━━\u001b[0m\u001b[37m\u001b[0m \u001b[1m236s\u001b[0m 3s/step - accuracy: 0.0073 - loss: 4.9049 - val_accuracy: 0.0369 - val_loss: 4.6184\n",
            "Epoch 2/30\n",
            "\u001b[1m68/68\u001b[0m \u001b[32m━━━━━━━━━━━━━━━━━━━━\u001b[0m\u001b[37m\u001b[0m \u001b[1m263s\u001b[0m 3s/step - accuracy: 0.0319 - loss: 4.6145 - val_accuracy: 0.1236 - val_loss: 4.3315\n",
            "Epoch 3/30\n",
            "\u001b[1m68/68\u001b[0m \u001b[32m━━━━━━━━━━━━━━━━━━━━\u001b[0m\u001b[37m\u001b[0m \u001b[1m261s\u001b[0m 3s/step - accuracy: 0.1012 - loss: 4.3151 - val_accuracy: 0.2343 - val_loss: 4.0641\n",
            "Epoch 4/30\n",
            "\u001b[1m68/68\u001b[0m \u001b[32m━━━━━━━━━━━━━━━━━━━━\u001b[0m\u001b[37m\u001b[0m \u001b[1m218s\u001b[0m 3s/step - accuracy: 0.2028 - loss: 4.0193 - val_accuracy: 0.3275 - val_loss: 3.8165\n",
            "Epoch 5/30\n",
            "\u001b[1m68/68\u001b[0m \u001b[32m━━━━━━━━━━━━━━━━━━━━\u001b[0m\u001b[37m\u001b[0m \u001b[1m254s\u001b[0m 3s/step - accuracy: 0.2562 - loss: 3.8040 - val_accuracy: 0.4165 - val_loss: 3.5829\n",
            "Epoch 6/30\n",
            "\u001b[1m68/68\u001b[0m \u001b[32m━━━━━━━━━━━━━━━━━━━━\u001b[0m\u001b[37m\u001b[0m \u001b[1m263s\u001b[0m 3s/step - accuracy: 0.3418 - loss: 3.5438 - val_accuracy: 0.4946 - val_loss: 3.3679\n",
            "Epoch 7/30\n",
            "\u001b[1m68/68\u001b[0m \u001b[32m━━━━━━━━━━━━━━━━━━━━\u001b[0m\u001b[37m\u001b[0m \u001b[1m270s\u001b[0m 3s/step - accuracy: 0.4332 - loss: 3.3040 - val_accuracy: 0.5358 - val_loss: 3.1684\n",
            "Epoch 8/30\n",
            "\u001b[1m68/68\u001b[0m \u001b[32m━━━━━━━━━━━━━━━━━━━━\u001b[0m\u001b[37m\u001b[0m \u001b[1m262s\u001b[0m 3s/step - accuracy: 0.4786 - loss: 3.1082 - val_accuracy: 0.5640 - val_loss: 2.9818\n",
            "Epoch 9/30\n",
            "\u001b[1m68/68\u001b[0m \u001b[32m━━━━━━━━━━━━━━━━━━━━\u001b[0m\u001b[37m\u001b[0m \u001b[1m264s\u001b[0m 3s/step - accuracy: 0.5147 - loss: 2.9448 - val_accuracy: 0.5987 - val_loss: 2.8112\n",
            "Epoch 10/30\n",
            "\u001b[1m68/68\u001b[0m \u001b[32m━━━━━━━━━━━━━━━━━━━━\u001b[0m\u001b[37m\u001b[0m \u001b[1m210s\u001b[0m 3s/step - accuracy: 0.5672 - loss: 2.7546 - val_accuracy: 0.6247 - val_loss: 2.6526\n",
            "Epoch 11/30\n",
            "\u001b[1m68/68\u001b[0m \u001b[32m━━━━━━━━━━━━━━━━━━━━\u001b[0m\u001b[37m\u001b[0m \u001b[1m217s\u001b[0m 3s/step - accuracy: 0.6186 - loss: 2.6010 - val_accuracy: 0.6594 - val_loss: 2.5079\n",
            "Epoch 12/30\n",
            "\u001b[1m68/68\u001b[0m \u001b[32m━━━━━━━━━━━━━━━━━━━━\u001b[0m\u001b[37m\u001b[0m \u001b[1m266s\u001b[0m 3s/step - accuracy: 0.6286 - loss: 2.4715 - val_accuracy: 0.6855 - val_loss: 2.3726\n",
            "Epoch 13/30\n",
            "\u001b[1m68/68\u001b[0m \u001b[32m━━━━━━━━━━━━━━━━━━━━\u001b[0m\u001b[37m\u001b[0m \u001b[1m220s\u001b[0m 3s/step - accuracy: 0.6435 - loss: 2.3187 - val_accuracy: 0.6941 - val_loss: 2.2487\n",
            "Epoch 14/30\n",
            "\u001b[1m68/68\u001b[0m \u001b[32m━━━━━━━━━━━━━━━━━━━━\u001b[0m\u001b[37m\u001b[0m \u001b[1m261s\u001b[0m 3s/step - accuracy: 0.6900 - loss: 2.1598 - val_accuracy: 0.7093 - val_loss: 2.1361\n",
            "Epoch 15/30\n",
            "\u001b[1m68/68\u001b[0m \u001b[32m━━━━━━━━━━━━━━━━━━━━\u001b[0m\u001b[37m\u001b[0m \u001b[1m262s\u001b[0m 3s/step - accuracy: 0.7100 - loss: 2.0687 - val_accuracy: 0.7180 - val_loss: 2.0329\n",
            "Epoch 16/30\n",
            "\u001b[1m68/68\u001b[0m \u001b[32m━━━━━━━━━━━━━━━━━━━━\u001b[0m\u001b[37m\u001b[0m \u001b[1m254s\u001b[0m 3s/step - accuracy: 0.7072 - loss: 1.9892 - val_accuracy: 0.7289 - val_loss: 1.9390\n",
            "Epoch 17/30\n",
            "\u001b[1m68/68\u001b[0m \u001b[32m━━━━━━━━━━━━━━━━━━━━\u001b[0m\u001b[37m\u001b[0m \u001b[1m263s\u001b[0m 3s/step - accuracy: 0.7326 - loss: 1.8609 - val_accuracy: 0.7440 - val_loss: 1.8517\n",
            "Epoch 18/30\n",
            "\u001b[1m68/68\u001b[0m \u001b[32m━━━━━━━━━━━━━━━━━━━━\u001b[0m\u001b[37m\u001b[0m \u001b[1m270s\u001b[0m 3s/step - accuracy: 0.7675 - loss: 1.7699 - val_accuracy: 0.7527 - val_loss: 1.7740\n",
            "Epoch 19/30\n",
            "\u001b[1m68/68\u001b[0m \u001b[32m━━━━━━━━━━━━━━━━━━━━\u001b[0m\u001b[37m\u001b[0m \u001b[1m218s\u001b[0m 3s/step - accuracy: 0.7542 - loss: 1.6877 - val_accuracy: 0.7570 - val_loss: 1.7007\n",
            "Epoch 20/30\n",
            "\u001b[1m68/68\u001b[0m \u001b[32m━━━━━━━━━━━━━━━━━━━━\u001b[0m\u001b[37m\u001b[0m \u001b[1m268s\u001b[0m 3s/step - accuracy: 0.7762 - loss: 1.5921 - val_accuracy: 0.7592 - val_loss: 1.6338\n",
            "Epoch 21/30\n",
            "\u001b[1m68/68\u001b[0m \u001b[32m━━━━━━━━━━━━━━━━━━━━\u001b[0m\u001b[37m\u001b[0m \u001b[1m257s\u001b[0m 3s/step - accuracy: 0.7747 - loss: 1.5652 - val_accuracy: 0.7636 - val_loss: 1.5727\n",
            "Epoch 22/30\n",
            "\u001b[1m68/68\u001b[0m \u001b[32m━━━━━━━━━━━━━━━━━━━━\u001b[0m\u001b[37m\u001b[0m \u001b[1m263s\u001b[0m 3s/step - accuracy: 0.7777 - loss: 1.4992 - val_accuracy: 0.7701 - val_loss: 1.5171\n",
            "Epoch 23/30\n",
            "\u001b[1m68/68\u001b[0m \u001b[32m━━━━━━━━━━━━━━━━━━━━\u001b[0m\u001b[37m\u001b[0m \u001b[1m219s\u001b[0m 3s/step - accuracy: 0.7831 - loss: 1.4334 - val_accuracy: 0.7744 - val_loss: 1.4652\n",
            "Epoch 24/30\n",
            "\u001b[1m68/68\u001b[0m \u001b[32m━━━━━━━━━━━━━━━━━━━━\u001b[0m\u001b[37m\u001b[0m \u001b[1m260s\u001b[0m 3s/step - accuracy: 0.8112 - loss: 1.3632 - val_accuracy: 0.7701 - val_loss: 1.4181\n",
            "Epoch 25/30\n",
            "\u001b[1m68/68\u001b[0m \u001b[32m━━━━━━━━━━━━━━━━━━━━\u001b[0m\u001b[37m\u001b[0m \u001b[1m213s\u001b[0m 3s/step - accuracy: 0.8216 - loss: 1.3265 - val_accuracy: 0.7766 - val_loss: 1.3735\n",
            "Epoch 26/30\n",
            "\u001b[1m68/68\u001b[0m \u001b[32m━━━━━━━━━━━━━━━━━━━━\u001b[0m\u001b[37m\u001b[0m \u001b[1m218s\u001b[0m 3s/step - accuracy: 0.8399 - loss: 1.2518 - val_accuracy: 0.7722 - val_loss: 1.3323\n",
            "Epoch 27/30\n",
            "\u001b[1m68/68\u001b[0m \u001b[32m━━━━━━━━━━━━━━━━━━━━\u001b[0m\u001b[37m\u001b[0m \u001b[1m219s\u001b[0m 3s/step - accuracy: 0.8148 - loss: 1.2222 - val_accuracy: 0.7787 - val_loss: 1.2941\n",
            "Epoch 28/30\n",
            "\u001b[1m68/68\u001b[0m \u001b[32m━━━━━━━━━━━━━━━━━━━━\u001b[0m\u001b[37m\u001b[0m \u001b[1m263s\u001b[0m 3s/step - accuracy: 0.8323 - loss: 1.1751 - val_accuracy: 0.7809 - val_loss: 1.2593\n",
            "Epoch 29/30\n",
            "\u001b[1m68/68\u001b[0m \u001b[32m━━━━━━━━━━━━━━━━━━━━\u001b[0m\u001b[37m\u001b[0m \u001b[1m220s\u001b[0m 3s/step - accuracy: 0.8506 - loss: 1.1063 - val_accuracy: 0.7809 - val_loss: 1.2274\n",
            "Epoch 30/30\n",
            "\u001b[1m68/68\u001b[0m \u001b[32m━━━━━━━━━━━━━━━━━━━━\u001b[0m\u001b[37m\u001b[0m \u001b[1m220s\u001b[0m 3s/step - accuracy: 0.8430 - loss: 1.0904 - val_accuracy: 0.7852 - val_loss: 1.1973\n"
          ]
        },
        {
          "output_type": "stream",
          "name": "stderr",
          "text": [
            "WARNING:tensorflow:5 out of the last 24 calls to <function TensorFlowTrainer.make_predict_function.<locals>.one_step_on_data_distributed at 0x7b070926f600> triggered tf.function retracing. Tracing is expensive and the excessive number of tracings could be due to (1) creating @tf.function repeatedly in a loop, (2) passing tensors with different shapes, (3) passing Python objects instead of tensors. For (1), please define your @tf.function outside of the loop. For (2), @tf.function has reduce_retracing=True option that can avoid unnecessary retracing. For (3), please refer to https://www.tensorflow.org/guide/function#controlling_retracing and https://www.tensorflow.org/api_docs/python/tf/function for  more details.\n"
          ]
        },
        {
          "output_type": "stream",
          "name": "stdout",
          "text": [
            "Epoch 1/30\n",
            "\u001b[1m34/34\u001b[0m \u001b[32m━━━━━━━━━━━━━━━━━━━━\u001b[0m\u001b[37m\u001b[0m \u001b[1m248s\u001b[0m 7s/step - accuracy: 0.0093 - loss: 4.9025 - val_accuracy: 0.0347 - val_loss: 4.6669\n",
            "Epoch 2/30\n",
            "\u001b[1m34/34\u001b[0m \u001b[32m━━━━━━━━━━━━━━━━━━━━\u001b[0m\u001b[37m\u001b[0m \u001b[1m230s\u001b[0m 7s/step - accuracy: 0.0283 - loss: 4.6871 - val_accuracy: 0.0694 - val_loss: 4.4680\n",
            "Epoch 3/30\n",
            "\u001b[1m34/34\u001b[0m \u001b[32m━━━━━━━━━━━━━━━━━━━━\u001b[0m\u001b[37m\u001b[0m \u001b[1m229s\u001b[0m 7s/step - accuracy: 0.0470 - loss: 4.4879 - val_accuracy: 0.1323 - val_loss: 4.2780\n",
            "Epoch 4/30\n",
            "\u001b[1m34/34\u001b[0m \u001b[32m━━━━━━━━━━━━━━━━━━━━\u001b[0m\u001b[37m\u001b[0m \u001b[1m231s\u001b[0m 7s/step - accuracy: 0.0874 - loss: 4.2898 - val_accuracy: 0.2386 - val_loss: 4.0977\n",
            "Epoch 5/30\n",
            "\u001b[1m34/34\u001b[0m \u001b[32m━━━━━━━━━━━━━━━━━━━━\u001b[0m\u001b[37m\u001b[0m \u001b[1m229s\u001b[0m 7s/step - accuracy: 0.1519 - loss: 4.1335 - val_accuracy: 0.2993 - val_loss: 3.9241\n",
            "Epoch 6/30\n",
            "\u001b[1m34/34\u001b[0m \u001b[32m━━━━━━━━━━━━━━━━━━━━\u001b[0m\u001b[37m\u001b[0m \u001b[1m262s\u001b[0m 7s/step - accuracy: 0.1917 - loss: 3.9475 - val_accuracy: 0.3796 - val_loss: 3.7583\n",
            "Epoch 7/30\n",
            "\u001b[1m34/34\u001b[0m \u001b[32m━━━━━━━━━━━━━━━━━━━━\u001b[0m\u001b[37m\u001b[0m \u001b[1m262s\u001b[0m 7s/step - accuracy: 0.2667 - loss: 3.7756 - val_accuracy: 0.4252 - val_loss: 3.6001\n",
            "Epoch 8/30\n",
            "\u001b[1m34/34\u001b[0m \u001b[32m━━━━━━━━━━━━━━━━━━━━\u001b[0m\u001b[37m\u001b[0m \u001b[1m262s\u001b[0m 7s/step - accuracy: 0.3263 - loss: 3.5974 - val_accuracy: 0.4555 - val_loss: 3.4480\n",
            "Epoch 9/30\n",
            "\u001b[1m34/34\u001b[0m \u001b[32m━━━━━━━━━━━━━━━━━━━━\u001b[0m\u001b[37m\u001b[0m \u001b[1m229s\u001b[0m 7s/step - accuracy: 0.3694 - loss: 3.4663 - val_accuracy: 0.5076 - val_loss: 3.3042\n",
            "Epoch 10/30\n",
            "\u001b[1m34/34\u001b[0m \u001b[32m━━━━━━━━━━━━━━━━━━━━\u001b[0m\u001b[37m\u001b[0m \u001b[1m230s\u001b[0m 7s/step - accuracy: 0.4199 - loss: 3.3253 - val_accuracy: 0.5401 - val_loss: 3.1668\n",
            "Epoch 11/30\n",
            "\u001b[1m34/34\u001b[0m \u001b[32m━━━━━━━━━━━━━━━━━━━━\u001b[0m\u001b[37m\u001b[0m \u001b[1m261s\u001b[0m 7s/step - accuracy: 0.4364 - loss: 3.1993 - val_accuracy: 0.5683 - val_loss: 3.0364\n",
            "Epoch 12/30\n",
            "\u001b[1m34/34\u001b[0m \u001b[32m━━━━━━━━━━━━━━━━━━━━\u001b[0m\u001b[37m\u001b[0m \u001b[1m232s\u001b[0m 7s/step - accuracy: 0.4950 - loss: 3.0499 - val_accuracy: 0.5922 - val_loss: 2.9124\n",
            "Epoch 13/30\n",
            "\u001b[1m34/34\u001b[0m \u001b[32m━━━━━━━━━━━━━━━━━━━━\u001b[0m\u001b[37m\u001b[0m \u001b[1m232s\u001b[0m 7s/step - accuracy: 0.5494 - loss: 2.8897 - val_accuracy: 0.6095 - val_loss: 2.7951\n",
            "Epoch 14/30\n",
            "\u001b[1m34/34\u001b[0m \u001b[32m━━━━━━━━━━━━━━━━━━━━\u001b[0m\u001b[37m\u001b[0m \u001b[1m232s\u001b[0m 7s/step - accuracy: 0.5844 - loss: 2.7785 - val_accuracy: 0.6291 - val_loss: 2.6835\n",
            "Epoch 15/30\n",
            "\u001b[1m34/34\u001b[0m \u001b[32m━━━━━━━━━━━━━━━━━━━━\u001b[0m\u001b[37m\u001b[0m \u001b[1m231s\u001b[0m 7s/step - accuracy: 0.5735 - loss: 2.6849 - val_accuracy: 0.6551 - val_loss: 2.5779\n",
            "Epoch 16/30\n",
            "\u001b[1m34/34\u001b[0m \u001b[32m━━━━━━━━━━━━━━━━━━━━\u001b[0m\u001b[37m\u001b[0m \u001b[1m232s\u001b[0m 7s/step - accuracy: 0.6009 - loss: 2.5929 - val_accuracy: 0.6573 - val_loss: 2.4786\n",
            "Epoch 17/30\n",
            "\u001b[1m34/34\u001b[0m \u001b[32m━━━━━━━━━━━━━━━━━━━━\u001b[0m\u001b[37m\u001b[0m \u001b[1m232s\u001b[0m 7s/step - accuracy: 0.6548 - loss: 2.4313 - val_accuracy: 0.6659 - val_loss: 2.3846\n",
            "Epoch 18/30\n",
            "\u001b[1m34/34\u001b[0m \u001b[32m━━━━━━━━━━━━━━━━━━━━\u001b[0m\u001b[37m\u001b[0m \u001b[1m261s\u001b[0m 7s/step - accuracy: 0.6556 - loss: 2.3541 - val_accuracy: 0.6855 - val_loss: 2.2969\n",
            "Epoch 19/30\n",
            "\u001b[1m34/34\u001b[0m \u001b[32m━━━━━━━━━━━━━━━━━━━━\u001b[0m\u001b[37m\u001b[0m \u001b[1m229s\u001b[0m 7s/step - accuracy: 0.6707 - loss: 2.2894 - val_accuracy: 0.6963 - val_loss: 2.2130\n",
            "Epoch 20/30\n",
            "\u001b[1m34/34\u001b[0m \u001b[32m━━━━━━━━━━━━━━━━━━━━\u001b[0m\u001b[37m\u001b[0m \u001b[1m230s\u001b[0m 7s/step - accuracy: 0.6790 - loss: 2.1809 - val_accuracy: 0.7072 - val_loss: 2.1342\n",
            "Epoch 21/30\n",
            "\u001b[1m34/34\u001b[0m \u001b[32m━━━━━━━━━━━━━━━━━━━━\u001b[0m\u001b[37m\u001b[0m \u001b[1m229s\u001b[0m 7s/step - accuracy: 0.6840 - loss: 2.1259 - val_accuracy: 0.7158 - val_loss: 2.0611\n",
            "Epoch 22/30\n",
            "\u001b[1m34/34\u001b[0m \u001b[32m━━━━━━━━━━━━━━━━━━━━\u001b[0m\u001b[37m\u001b[0m \u001b[1m229s\u001b[0m 7s/step - accuracy: 0.7021 - loss: 2.0505 - val_accuracy: 0.7158 - val_loss: 1.9915\n",
            "Epoch 23/30\n",
            "\u001b[1m34/34\u001b[0m \u001b[32m━━━━━━━━━━━━━━━━━━━━\u001b[0m\u001b[37m\u001b[0m \u001b[1m230s\u001b[0m 7s/step - accuracy: 0.7238 - loss: 1.9588 - val_accuracy: 0.7267 - val_loss: 1.9266\n",
            "Epoch 24/30\n",
            "\u001b[1m34/34\u001b[0m \u001b[32m━━━━━━━━━━━━━━━━━━━━\u001b[0m\u001b[37m\u001b[0m \u001b[1m262s\u001b[0m 7s/step - accuracy: 0.7170 - loss: 1.8958 - val_accuracy: 0.7289 - val_loss: 1.8654\n",
            "Epoch 25/30\n",
            "\u001b[1m34/34\u001b[0m \u001b[32m━━━━━━━━━━━━━━━━━━━━\u001b[0m\u001b[37m\u001b[0m \u001b[1m223s\u001b[0m 7s/step - accuracy: 0.7511 - loss: 1.8015 - val_accuracy: 0.7354 - val_loss: 1.8079\n",
            "Epoch 26/30\n",
            "\u001b[1m34/34\u001b[0m \u001b[32m━━━━━━━━━━━━━━━━━━━━\u001b[0m\u001b[37m\u001b[0m \u001b[1m229s\u001b[0m 7s/step - accuracy: 0.7640 - loss: 1.7226 - val_accuracy: 0.7375 - val_loss: 1.7533\n",
            "Epoch 27/30\n",
            "\u001b[1m34/34\u001b[0m \u001b[32m━━━━━━━━━━━━━━━━━━━━\u001b[0m\u001b[37m\u001b[0m \u001b[1m229s\u001b[0m 7s/step - accuracy: 0.7712 - loss: 1.6977 - val_accuracy: 0.7440 - val_loss: 1.7022\n",
            "Epoch 28/30\n",
            "\u001b[1m34/34\u001b[0m \u001b[32m━━━━━━━━━━━━━━━━━━━━\u001b[0m\u001b[37m\u001b[0m \u001b[1m256s\u001b[0m 7s/step - accuracy: 0.7696 - loss: 1.6555 - val_accuracy: 0.7440 - val_loss: 1.6551\n",
            "Epoch 29/30\n",
            "\u001b[1m34/34\u001b[0m \u001b[32m━━━━━━━━━━━━━━━━━━━━\u001b[0m\u001b[37m\u001b[0m \u001b[1m267s\u001b[0m 7s/step - accuracy: 0.7836 - loss: 1.5680 - val_accuracy: 0.7484 - val_loss: 1.6107\n",
            "Epoch 30/30\n",
            "\u001b[1m34/34\u001b[0m \u001b[32m━━━━━━━━━━━━━━━━━━━━\u001b[0m\u001b[37m\u001b[0m \u001b[1m264s\u001b[0m 7s/step - accuracy: 0.7839 - loss: 1.5536 - val_accuracy: 0.7484 - val_loss: 1.5681\n",
            "    lr  epochs  batch_size  test_loss  test_acc  test_f1_weighted\n",
            "0.0100      10          32   0.799759  0.765727          0.761947\n",
            "0.0100      10          64   0.841165  0.774403          0.763331\n",
            "0.0010      20          32   0.644436  0.813449          0.806355\n",
            "0.0010      20          64   0.662655  0.809111          0.802338\n",
            "0.0001      30          32   1.207232  0.767896          0.753584\n",
            "0.0001      30          64   1.593063  0.735358          0.711360\n"
          ]
        }
      ]
    }
  ]
}